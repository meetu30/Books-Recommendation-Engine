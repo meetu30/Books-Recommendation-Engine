{
 "cells": [
  {
   "cell_type": "markdown",
   "metadata": {},
   "source": [
    "# Book Recommendation Engine"
   ]
  },
  {
   "cell_type": "markdown",
   "metadata": {},
   "source": [
    "\n",
    "\n",
    "<img src=\"books.jpg\" width=600 height=200/>\n"
   ]
  },
  {
   "cell_type": "code",
   "execution_count": 2,
   "metadata": {},
   "outputs": [],
   "source": [
    "# importing libraries\n",
    "\n",
    "import pandas as pd # for reading data and data manipulation\n",
    "\n",
    "# for data visualisation\n",
    "import matplotlib.pyplot as plt\n",
    "import seaborn as sns\n",
    "\n",
    "# for interactive plots\n",
    "import ipywidgets\n",
    "from ipywidgets import interact\n",
    "from ipywidgets import interact_manual"
   ]
  },
  {
   "cell_type": "code",
   "execution_count": 3,
   "metadata": {},
   "outputs": [
    {
     "name": "stderr",
     "output_type": "stream",
     "text": [
      "b'Skipping line 3350: expected 12 fields, saw 13\\nSkipping line 4704: expected 12 fields, saw 13\\nSkipping line 5879: expected 12 fields, saw 13\\nSkipping line 8981: expected 12 fields, saw 13\\n'\n"
     ]
    }
   ],
   "source": [
    "# reading \"books\" dataset using \"read_csv\" function\n",
    "df = pd.read_csv('books.csv', error_bad_lines = False)\n",
    "\n",
    "# When there are too many fields in the data then by default an exception is raised \n",
    "# and no data frame is returned. If \"error_bad_lines=False\" then bad lines are dropped from dataframe\n"
   ]
  },
  {
   "cell_type": "markdown",
   "metadata": {},
   "source": [
    "# Exploratory Data Analysis"
   ]
  },
  {
   "cell_type": "code",
   "execution_count": 4,
   "metadata": {},
   "outputs": [
    {
     "data": {
      "text/html": [
       "<div>\n",
       "<style scoped>\n",
       "    .dataframe tbody tr th:only-of-type {\n",
       "        vertical-align: middle;\n",
       "    }\n",
       "\n",
       "    .dataframe tbody tr th {\n",
       "        vertical-align: top;\n",
       "    }\n",
       "\n",
       "    .dataframe thead th {\n",
       "        text-align: right;\n",
       "    }\n",
       "</style>\n",
       "<table border=\"1\" class=\"dataframe\">\n",
       "  <thead>\n",
       "    <tr style=\"text-align: right;\">\n",
       "      <th></th>\n",
       "      <th>bookID</th>\n",
       "      <th>title</th>\n",
       "      <th>authors</th>\n",
       "      <th>average_rating</th>\n",
       "      <th>isbn</th>\n",
       "      <th>isbn13</th>\n",
       "      <th>language_code</th>\n",
       "      <th>num_pages</th>\n",
       "      <th>ratings_count</th>\n",
       "      <th>text_reviews_count</th>\n",
       "      <th>publication_date</th>\n",
       "      <th>publisher</th>\n",
       "    </tr>\n",
       "  </thead>\n",
       "  <tbody>\n",
       "    <tr>\n",
       "      <th>0</th>\n",
       "      <td>1</td>\n",
       "      <td>Harry Potter and the Half-Blood Prince (Harry ...</td>\n",
       "      <td>J.K. Rowling/Mary GrandPré</td>\n",
       "      <td>4.57</td>\n",
       "      <td>0439785960</td>\n",
       "      <td>9780439785969</td>\n",
       "      <td>eng</td>\n",
       "      <td>652</td>\n",
       "      <td>2095690</td>\n",
       "      <td>27591</td>\n",
       "      <td>9/16/2006</td>\n",
       "      <td>Scholastic Inc.</td>\n",
       "    </tr>\n",
       "    <tr>\n",
       "      <th>1</th>\n",
       "      <td>2</td>\n",
       "      <td>Harry Potter and the Order of the Phoenix (Har...</td>\n",
       "      <td>J.K. Rowling/Mary GrandPré</td>\n",
       "      <td>4.49</td>\n",
       "      <td>0439358078</td>\n",
       "      <td>9780439358071</td>\n",
       "      <td>eng</td>\n",
       "      <td>870</td>\n",
       "      <td>2153167</td>\n",
       "      <td>29221</td>\n",
       "      <td>9/1/2004</td>\n",
       "      <td>Scholastic Inc.</td>\n",
       "    </tr>\n",
       "    <tr>\n",
       "      <th>2</th>\n",
       "      <td>4</td>\n",
       "      <td>Harry Potter and the Chamber of Secrets (Harry...</td>\n",
       "      <td>J.K. Rowling</td>\n",
       "      <td>4.42</td>\n",
       "      <td>0439554896</td>\n",
       "      <td>9780439554893</td>\n",
       "      <td>eng</td>\n",
       "      <td>352</td>\n",
       "      <td>6333</td>\n",
       "      <td>244</td>\n",
       "      <td>11/1/2003</td>\n",
       "      <td>Scholastic</td>\n",
       "    </tr>\n",
       "  </tbody>\n",
       "</table>\n",
       "</div>"
      ],
      "text/plain": [
       "   bookID                                              title  \\\n",
       "0       1  Harry Potter and the Half-Blood Prince (Harry ...   \n",
       "1       2  Harry Potter and the Order of the Phoenix (Har...   \n",
       "2       4  Harry Potter and the Chamber of Secrets (Harry...   \n",
       "\n",
       "                      authors  average_rating        isbn         isbn13  \\\n",
       "0  J.K. Rowling/Mary GrandPré            4.57  0439785960  9780439785969   \n",
       "1  J.K. Rowling/Mary GrandPré            4.49  0439358078  9780439358071   \n",
       "2                J.K. Rowling            4.42  0439554896  9780439554893   \n",
       "\n",
       "  language_code    num_pages  ratings_count  text_reviews_count  \\\n",
       "0           eng          652        2095690               27591   \n",
       "1           eng          870        2153167               29221   \n",
       "2           eng          352           6333                 244   \n",
       "\n",
       "  publication_date        publisher  \n",
       "0        9/16/2006  Scholastic Inc.  \n",
       "1         9/1/2004  Scholastic Inc.  \n",
       "2        11/1/2003       Scholastic  "
      ]
     },
     "execution_count": 4,
     "metadata": {},
     "output_type": "execute_result"
    }
   ],
   "source": [
    "# head of the data\n",
    "df.head(3)"
   ]
  },
  {
   "cell_type": "code",
   "execution_count": 5,
   "metadata": {},
   "outputs": [
    {
     "data": {
      "text/plain": [
       "Index(['bookID', 'title', 'authors', 'average_rating', 'isbn', 'isbn13',\n",
       "       'language_code', '  num_pages', 'ratings_count', 'text_reviews_count',\n",
       "       'publication_date', 'publisher'],\n",
       "      dtype='object')"
      ]
     },
     "execution_count": 5,
     "metadata": {},
     "output_type": "execute_result"
    }
   ],
   "source": [
    "# columns\n",
    "df.columns"
   ]
  },
  {
   "cell_type": "code",
   "execution_count": 6,
   "metadata": {},
   "outputs": [],
   "source": [
    "# we can observe that there is a column in the dataset called \"num_pages\" which have some extra spaces at the beginning.\n",
    "# So, we remove those extra spaces using the strip() function\n",
    "df.columns = df.columns.str.strip()"
   ]
  },
  {
   "cell_type": "code",
   "execution_count": 7,
   "metadata": {},
   "outputs": [
    {
     "data": {
      "text/plain": [
       "Index(['bookID', 'title', 'authors', 'average_rating', 'isbn', 'isbn13',\n",
       "       'language_code', 'num_pages', 'ratings_count', 'text_reviews_count',\n",
       "       'publication_date', 'publisher'],\n",
       "      dtype='object')"
      ]
     },
     "execution_count": 7,
     "metadata": {},
     "output_type": "execute_result"
    }
   ],
   "source": [
    "df.columns"
   ]
  },
  {
   "cell_type": "code",
   "execution_count": 8,
   "metadata": {},
   "outputs": [
    {
     "data": {
      "text/plain": [
       "(11123, 12)"
      ]
     },
     "execution_count": 8,
     "metadata": {},
     "output_type": "execute_result"
    }
   ],
   "source": [
    "# Let's check the shape of the data\n",
    "df.shape"
   ]
  },
  {
   "cell_type": "markdown",
   "metadata": {},
   "source": [
    "There are ``11123 rows`` and ``12 columns`` in the dataframe."
   ]
  },
  {
   "cell_type": "code",
   "execution_count": 9,
   "metadata": {},
   "outputs": [
    {
     "data": {
      "text/plain": [
       "bookID                  int64\n",
       "title                  object\n",
       "authors                object\n",
       "average_rating        float64\n",
       "isbn                   object\n",
       "isbn13                  int64\n",
       "language_code          object\n",
       "num_pages               int64\n",
       "ratings_count           int64\n",
       "text_reviews_count      int64\n",
       "publication_date       object\n",
       "publisher              object\n",
       "dtype: object"
      ]
     },
     "execution_count": 9,
     "metadata": {},
     "output_type": "execute_result"
    }
   ],
   "source": [
    "# checking for column data types\n",
    "df.dtypes"
   ]
  },
  {
   "cell_type": "code",
   "execution_count": 10,
   "metadata": {},
   "outputs": [
    {
     "data": {
      "text/html": [
       "<div>\n",
       "<style scoped>\n",
       "    .dataframe tbody tr th:only-of-type {\n",
       "        vertical-align: middle;\n",
       "    }\n",
       "\n",
       "    .dataframe tbody tr th {\n",
       "        vertical-align: top;\n",
       "    }\n",
       "\n",
       "    .dataframe thead th {\n",
       "        text-align: right;\n",
       "    }\n",
       "</style>\n",
       "<table border=\"1\" class=\"dataframe\">\n",
       "  <thead>\n",
       "    <tr style=\"text-align: right;\">\n",
       "      <th></th>\n",
       "      <th>bookID</th>\n",
       "      <th>average_rating</th>\n",
       "      <th>isbn13</th>\n",
       "      <th>num_pages</th>\n",
       "      <th>ratings_count</th>\n",
       "      <th>text_reviews_count</th>\n",
       "    </tr>\n",
       "  </thead>\n",
       "  <tbody>\n",
       "    <tr>\n",
       "      <th>count</th>\n",
       "      <td>11123.000000</td>\n",
       "      <td>11123.000000</td>\n",
       "      <td>1.112300e+04</td>\n",
       "      <td>11123.000000</td>\n",
       "      <td>1.112300e+04</td>\n",
       "      <td>11123.000000</td>\n",
       "    </tr>\n",
       "    <tr>\n",
       "      <th>mean</th>\n",
       "      <td>21310.856963</td>\n",
       "      <td>3.934075</td>\n",
       "      <td>9.759880e+12</td>\n",
       "      <td>336.405556</td>\n",
       "      <td>1.794285e+04</td>\n",
       "      <td>542.048099</td>\n",
       "    </tr>\n",
       "    <tr>\n",
       "      <th>std</th>\n",
       "      <td>13094.727252</td>\n",
       "      <td>0.350485</td>\n",
       "      <td>4.429758e+11</td>\n",
       "      <td>241.152626</td>\n",
       "      <td>1.124992e+05</td>\n",
       "      <td>2576.619589</td>\n",
       "    </tr>\n",
       "    <tr>\n",
       "      <th>min</th>\n",
       "      <td>1.000000</td>\n",
       "      <td>0.000000</td>\n",
       "      <td>8.987060e+09</td>\n",
       "      <td>0.000000</td>\n",
       "      <td>0.000000e+00</td>\n",
       "      <td>0.000000</td>\n",
       "    </tr>\n",
       "    <tr>\n",
       "      <th>25%</th>\n",
       "      <td>10277.500000</td>\n",
       "      <td>3.770000</td>\n",
       "      <td>9.780345e+12</td>\n",
       "      <td>192.000000</td>\n",
       "      <td>1.040000e+02</td>\n",
       "      <td>9.000000</td>\n",
       "    </tr>\n",
       "    <tr>\n",
       "      <th>50%</th>\n",
       "      <td>20287.000000</td>\n",
       "      <td>3.960000</td>\n",
       "      <td>9.780582e+12</td>\n",
       "      <td>299.000000</td>\n",
       "      <td>7.450000e+02</td>\n",
       "      <td>47.000000</td>\n",
       "    </tr>\n",
       "    <tr>\n",
       "      <th>75%</th>\n",
       "      <td>32104.500000</td>\n",
       "      <td>4.140000</td>\n",
       "      <td>9.780872e+12</td>\n",
       "      <td>416.000000</td>\n",
       "      <td>5.000500e+03</td>\n",
       "      <td>238.000000</td>\n",
       "    </tr>\n",
       "    <tr>\n",
       "      <th>max</th>\n",
       "      <td>45641.000000</td>\n",
       "      <td>5.000000</td>\n",
       "      <td>9.790008e+12</td>\n",
       "      <td>6576.000000</td>\n",
       "      <td>4.597666e+06</td>\n",
       "      <td>94265.000000</td>\n",
       "    </tr>\n",
       "  </tbody>\n",
       "</table>\n",
       "</div>"
      ],
      "text/plain": [
       "             bookID  average_rating        isbn13     num_pages  \\\n",
       "count  11123.000000    11123.000000  1.112300e+04  11123.000000   \n",
       "mean   21310.856963        3.934075  9.759880e+12    336.405556   \n",
       "std    13094.727252        0.350485  4.429758e+11    241.152626   \n",
       "min        1.000000        0.000000  8.987060e+09      0.000000   \n",
       "25%    10277.500000        3.770000  9.780345e+12    192.000000   \n",
       "50%    20287.000000        3.960000  9.780582e+12    299.000000   \n",
       "75%    32104.500000        4.140000  9.780872e+12    416.000000   \n",
       "max    45641.000000        5.000000  9.790008e+12   6576.000000   \n",
       "\n",
       "       ratings_count  text_reviews_count  \n",
       "count   1.112300e+04        11123.000000  \n",
       "mean    1.794285e+04          542.048099  \n",
       "std     1.124992e+05         2576.619589  \n",
       "min     0.000000e+00            0.000000  \n",
       "25%     1.040000e+02            9.000000  \n",
       "50%     7.450000e+02           47.000000  \n",
       "75%     5.000500e+03          238.000000  \n",
       "max     4.597666e+06        94265.000000  "
      ]
     },
     "execution_count": 10,
     "metadata": {},
     "output_type": "execute_result"
    }
   ],
   "source": [
    "# let's describe the columns of the dataset\n",
    "df.describe()"
   ]
  },
  {
   "cell_type": "markdown",
   "metadata": {},
   "source": [
    "The complete statistics is displayed."
   ]
  },
  {
   "cell_type": "code",
   "execution_count": 11,
   "metadata": {},
   "outputs": [
    {
     "data": {
      "text/html": [
       "<div>\n",
       "<style scoped>\n",
       "    .dataframe tbody tr th:only-of-type {\n",
       "        vertical-align: middle;\n",
       "    }\n",
       "\n",
       "    .dataframe tbody tr th {\n",
       "        vertical-align: top;\n",
       "    }\n",
       "\n",
       "    .dataframe thead th {\n",
       "        text-align: right;\n",
       "    }\n",
       "</style>\n",
       "<table border=\"1\" class=\"dataframe\">\n",
       "  <thead>\n",
       "    <tr style=\"text-align: right;\">\n",
       "      <th></th>\n",
       "      <th>title</th>\n",
       "      <th>authors</th>\n",
       "      <th>isbn</th>\n",
       "      <th>language_code</th>\n",
       "      <th>publication_date</th>\n",
       "      <th>publisher</th>\n",
       "    </tr>\n",
       "  </thead>\n",
       "  <tbody>\n",
       "    <tr>\n",
       "      <th>count</th>\n",
       "      <td>11123</td>\n",
       "      <td>11123</td>\n",
       "      <td>11123</td>\n",
       "      <td>11123</td>\n",
       "      <td>11123</td>\n",
       "      <td>11123</td>\n",
       "    </tr>\n",
       "    <tr>\n",
       "      <th>unique</th>\n",
       "      <td>10348</td>\n",
       "      <td>6639</td>\n",
       "      <td>11123</td>\n",
       "      <td>27</td>\n",
       "      <td>3679</td>\n",
       "      <td>2290</td>\n",
       "    </tr>\n",
       "    <tr>\n",
       "      <th>top</th>\n",
       "      <td>The Brothers Karamazov</td>\n",
       "      <td>Stephen King</td>\n",
       "      <td>0451163087</td>\n",
       "      <td>eng</td>\n",
       "      <td>10/1/2005</td>\n",
       "      <td>Vintage</td>\n",
       "    </tr>\n",
       "    <tr>\n",
       "      <th>freq</th>\n",
       "      <td>9</td>\n",
       "      <td>40</td>\n",
       "      <td>1</td>\n",
       "      <td>8908</td>\n",
       "      <td>56</td>\n",
       "      <td>318</td>\n",
       "    </tr>\n",
       "  </tbody>\n",
       "</table>\n",
       "</div>"
      ],
      "text/plain": [
       "                         title       authors        isbn language_code  \\\n",
       "count                    11123         11123       11123         11123   \n",
       "unique                   10348          6639       11123            27   \n",
       "top     The Brothers Karamazov  Stephen King  0451163087           eng   \n",
       "freq                         9            40           1          8908   \n",
       "\n",
       "       publication_date publisher  \n",
       "count             11123     11123  \n",
       "unique             3679      2290  \n",
       "top           10/1/2005   Vintage  \n",
       "freq                 56       318  "
      ]
     },
     "execution_count": 11,
     "metadata": {},
     "output_type": "execute_result"
    }
   ],
   "source": [
    "# let's also check for the categorical columns\n",
    "df.describe(include='object')"
   ]
  },
  {
   "cell_type": "code",
   "execution_count": 12,
   "metadata": {},
   "outputs": [
    {
     "data": {
      "text/plain": [
       "bookID                0\n",
       "title                 0\n",
       "authors               0\n",
       "average_rating        0\n",
       "isbn                  0\n",
       "isbn13                0\n",
       "language_code         0\n",
       "num_pages             0\n",
       "ratings_count         0\n",
       "text_reviews_count    0\n",
       "publication_date      0\n",
       "publisher             0\n",
       "dtype: int64"
      ]
     },
     "execution_count": 12,
     "metadata": {},
     "output_type": "execute_result"
    }
   ],
   "source": [
    "# checking for the null values\n",
    "df.isnull().sum()"
   ]
  },
  {
   "cell_type": "markdown",
   "metadata": {},
   "source": [
    "We can observe that there are no missing values in the data frame."
   ]
  },
  {
   "cell_type": "code",
   "execution_count": 13,
   "metadata": {},
   "outputs": [
    {
     "data": {
      "text/plain": [
       "False"
      ]
     },
     "execution_count": 13,
     "metadata": {},
     "output_type": "execute_result"
    }
   ],
   "source": [
    "# let's check if there are any duplicates present in the data.\n",
    "\n",
    "df.duplicated().any()"
   ]
  },
  {
   "cell_type": "code",
   "execution_count": 14,
   "metadata": {},
   "outputs": [
    {
     "name": "stdout",
     "output_type": "stream",
     "text": [
      "<class 'pandas.core.frame.DataFrame'>\n",
      "RangeIndex: 11123 entries, 0 to 11122\n",
      "Data columns (total 12 columns):\n",
      " #   Column              Non-Null Count  Dtype  \n",
      "---  ------              --------------  -----  \n",
      " 0   bookID              11123 non-null  int64  \n",
      " 1   title               11123 non-null  object \n",
      " 2   authors             11123 non-null  object \n",
      " 3   average_rating      11123 non-null  float64\n",
      " 4   isbn                11123 non-null  object \n",
      " 5   isbn13              11123 non-null  int64  \n",
      " 6   language_code       11123 non-null  object \n",
      " 7   num_pages           11123 non-null  int64  \n",
      " 8   ratings_count       11123 non-null  int64  \n",
      " 9   text_reviews_count  11123 non-null  int64  \n",
      " 10  publication_date    11123 non-null  object \n",
      " 11  publisher           11123 non-null  object \n",
      "dtypes: float64(1), int64(5), object(6)\n",
      "memory usage: 1.0+ MB\n"
     ]
    }
   ],
   "source": [
    "# Get the complete information about the data using the info() function.\n",
    "df.info()"
   ]
  },
  {
   "cell_type": "code",
   "execution_count": 15,
   "metadata": {},
   "outputs": [
    {
     "data": {
      "text/plain": [
       "11123"
      ]
     },
     "execution_count": 15,
     "metadata": {},
     "output_type": "execute_result"
    }
   ],
   "source": [
    "# checking the unique values in \"isbn13\" column\n",
    "df.isbn13.nunique()"
   ]
  },
  {
   "cell_type": "code",
   "execution_count": 16,
   "metadata": {},
   "outputs": [
    {
     "data": {
      "text/plain": [
       "11123"
      ]
     },
     "execution_count": 16,
     "metadata": {},
     "output_type": "execute_result"
    }
   ],
   "source": [
    "# checking the unique values in \"isbn\" column\n",
    "df.isbn.nunique()"
   ]
  },
  {
   "cell_type": "code",
   "execution_count": 17,
   "metadata": {},
   "outputs": [],
   "source": [
    "# As the \"bookID, isbn and isbn13\" columns are unique for each row in the data.\n",
    "# Therfore, they cannot help us in recommending books. So we will drop them.\n",
    "df.drop(['bookID','isbn','isbn13'], axis=1, inplace = True)"
   ]
  },
  {
   "cell_type": "code",
   "execution_count": 18,
   "metadata": {},
   "outputs": [
    {
     "data": {
      "text/plain": [
       "Index(['title', 'authors', 'average_rating', 'language_code', 'num_pages',\n",
       "       'ratings_count', 'text_reviews_count', 'publication_date', 'publisher'],\n",
       "      dtype='object')"
      ]
     },
     "execution_count": 18,
     "metadata": {},
     "output_type": "execute_result"
    }
   ],
   "source": [
    "# let's cross check the columns again\n",
    "df.columns"
   ]
  },
  {
   "cell_type": "code",
   "execution_count": 19,
   "metadata": {},
   "outputs": [
    {
     "data": {
      "text/plain": [
       "0         9/16/2006\n",
       "1          9/1/2004\n",
       "2         11/1/2003\n",
       "3          5/1/2004\n",
       "4         9/13/2004\n",
       "            ...    \n",
       "11118    12/21/2004\n",
       "11119     12/1/1988\n",
       "11120      8/1/1993\n",
       "11121     2/27/2007\n",
       "11122     5/28/2006\n",
       "Name: publication_date, Length: 11123, dtype: object"
      ]
     },
     "execution_count": 19,
     "metadata": {},
     "output_type": "execute_result"
    }
   ],
   "source": [
    "df.publication_date"
   ]
  },
  {
   "cell_type": "markdown",
   "metadata": {},
   "source": [
    "# Feature Engineering"
   ]
  },
  {
   "cell_type": "code",
   "execution_count": 20,
   "metadata": {},
   "outputs": [],
   "source": [
    "# Let's create a new column called \"year\". We will extract only the year from the publication_date\n",
    "df['year'] = df['publication_date'].str.split('/')\n",
    "df['year'] = df['year'].apply(lambda x: x[2])"
   ]
  },
  {
   "cell_type": "code",
   "execution_count": 21,
   "metadata": {},
   "outputs": [],
   "source": [
    "# change the year column to int type\n",
    "df['year'] = df['year'].astype('int')"
   ]
  },
  {
   "cell_type": "code",
   "execution_count": 22,
   "metadata": {},
   "outputs": [
    {
     "name": "stdout",
     "output_type": "stream",
     "text": [
      "First year any book released  1900\n",
      "Last year any book released  2020\n"
     ]
    }
   ],
   "source": [
    "# Let's check the minimum and maximum year\n",
    "print(\"First year any book released \",df['year'].min())\n",
    "print(\"Last year any book released \",df['year'].max())"
   ]
  },
  {
   "cell_type": "markdown",
   "metadata": {},
   "source": [
    "This means this dataset contains books released between 1900 and 2020."
   ]
  },
  {
   "cell_type": "code",
   "execution_count": 23,
   "metadata": {},
   "outputs": [
    {
     "data": {
      "text/html": [
       "<div>\n",
       "<style scoped>\n",
       "    .dataframe tbody tr th:only-of-type {\n",
       "        vertical-align: middle;\n",
       "    }\n",
       "\n",
       "    .dataframe tbody tr th {\n",
       "        vertical-align: top;\n",
       "    }\n",
       "\n",
       "    .dataframe thead th {\n",
       "        text-align: right;\n",
       "    }\n",
       "</style>\n",
       "<table border=\"1\" class=\"dataframe\">\n",
       "  <thead>\n",
       "    <tr style=\"text-align: right;\">\n",
       "      <th></th>\n",
       "      <th>title</th>\n",
       "      <th>authors</th>\n",
       "      <th>average_rating</th>\n",
       "      <th>language_code</th>\n",
       "      <th>num_pages</th>\n",
       "      <th>ratings_count</th>\n",
       "      <th>text_reviews_count</th>\n",
       "      <th>publication_date</th>\n",
       "      <th>publisher</th>\n",
       "      <th>year</th>\n",
       "    </tr>\n",
       "  </thead>\n",
       "  <tbody>\n",
       "    <tr>\n",
       "      <th>0</th>\n",
       "      <td>Harry Potter and the Half-Blood Prince (Harry ...</td>\n",
       "      <td>J.K. Rowling/Mary GrandPré</td>\n",
       "      <td>4.57</td>\n",
       "      <td>eng</td>\n",
       "      <td>652</td>\n",
       "      <td>2095690</td>\n",
       "      <td>27591</td>\n",
       "      <td>9/16/2006</td>\n",
       "      <td>Scholastic Inc.</td>\n",
       "      <td>2006</td>\n",
       "    </tr>\n",
       "    <tr>\n",
       "      <th>1</th>\n",
       "      <td>Harry Potter and the Order of the Phoenix (Har...</td>\n",
       "      <td>J.K. Rowling/Mary GrandPré</td>\n",
       "      <td>4.49</td>\n",
       "      <td>eng</td>\n",
       "      <td>870</td>\n",
       "      <td>2153167</td>\n",
       "      <td>29221</td>\n",
       "      <td>9/1/2004</td>\n",
       "      <td>Scholastic Inc.</td>\n",
       "      <td>2004</td>\n",
       "    </tr>\n",
       "  </tbody>\n",
       "</table>\n",
       "</div>"
      ],
      "text/plain": [
       "                                               title  \\\n",
       "0  Harry Potter and the Half-Blood Prince (Harry ...   \n",
       "1  Harry Potter and the Order of the Phoenix (Har...   \n",
       "\n",
       "                      authors  average_rating language_code  num_pages  \\\n",
       "0  J.K. Rowling/Mary GrandPré            4.57           eng        652   \n",
       "1  J.K. Rowling/Mary GrandPré            4.49           eng        870   \n",
       "\n",
       "   ratings_count  text_reviews_count publication_date        publisher  year  \n",
       "0        2095690               27591        9/16/2006  Scholastic Inc.  2006  \n",
       "1        2153167               29221         9/1/2004  Scholastic Inc.  2004  "
      ]
     },
     "execution_count": 23,
     "metadata": {},
     "output_type": "execute_result"
    }
   ],
   "source": [
    "# Let's cross check whether the new column is added to the dataset or not.\n",
    "df.head(2)"
   ]
  },
  {
   "cell_type": "markdown",
   "metadata": {},
   "source": [
    "### Data Analysis and Visualisation"
   ]
  },
  {
   "cell_type": "code",
   "execution_count": 24,
   "metadata": {},
   "outputs": [
    {
     "data": {
      "text/html": [
       "<div>\n",
       "<style scoped>\n",
       "    .dataframe tbody tr th:only-of-type {\n",
       "        vertical-align: middle;\n",
       "    }\n",
       "\n",
       "    .dataframe tbody tr th {\n",
       "        vertical-align: top;\n",
       "    }\n",
       "\n",
       "    .dataframe thead th {\n",
       "        text-align: right;\n",
       "    }\n",
       "</style>\n",
       "<table border=\"1\" class=\"dataframe\">\n",
       "  <thead>\n",
       "    <tr style=\"text-align: right;\">\n",
       "      <th></th>\n",
       "      <th>title</th>\n",
       "      <th>authors</th>\n",
       "      <th>average_rating</th>\n",
       "      <th>language_code</th>\n",
       "      <th>publisher</th>\n",
       "    </tr>\n",
       "  </thead>\n",
       "  <tbody>\n",
       "    <tr>\n",
       "      <th>9664</th>\n",
       "      <td>A Quick Bite (Argeneau #1)</td>\n",
       "      <td>Lynsay Sands</td>\n",
       "      <td>3.91</td>\n",
       "      <td>eng</td>\n",
       "      <td>Avon</td>\n",
       "    </tr>\n",
       "  </tbody>\n",
       "</table>\n",
       "</div>"
      ],
      "text/plain": [
       "                           title       authors  average_rating language_code  \\\n",
       "9664  A Quick Bite (Argeneau #1)  Lynsay Sands            3.91           eng   \n",
       "\n",
       "     publisher  \n",
       "9664      Avon  "
      ]
     },
     "execution_count": 24,
     "metadata": {},
     "output_type": "execute_result"
    }
   ],
   "source": [
    "# Let's check which books were released in 2020.\n",
    "df[df['year']==2020][['title','authors','average_rating','language_code','publisher']]"
   ]
  },
  {
   "cell_type": "markdown",
   "metadata": {},
   "source": [
    "We can see that there is only one book **A Quick Bite** was released in the year 2020 written by **Lynsay Sands** and published by **Avon**."
   ]
  },
  {
   "cell_type": "code",
   "execution_count": 26,
   "metadata": {},
   "outputs": [
    {
     "data": {
      "text/plain": [
       "year\n",
       "2006    1700\n",
       "2005    1260\n",
       "2004    1069\n",
       "2003     931\n",
       "2002     798\n",
       "2001     656\n",
       "2000     534\n",
       "2007     518\n",
       "1999     450\n",
       "1998     396\n",
       "1997     290\n",
       "1996     250\n",
       "1995     249\n",
       "1994     220\n",
       "1992     183\n",
       "Name: title, dtype: int64"
      ]
     },
     "execution_count": 26,
     "metadata": {},
     "output_type": "execute_result"
    }
   ],
   "source": [
    "# Now, let's check the top 15 years in which maximum books were published\n",
    "df.groupby(['year'])['title'].agg('count').sort_values(ascending= False).head(15)"
   ]
  },
  {
   "cell_type": "code",
   "execution_count": 31,
   "metadata": {},
   "outputs": [
    {
     "data": {
      "image/png": "[encoded data removed]",
      "text/plain": [
       "<Figure size 1440x360 with 1 Axes>"
      ]
     },
     "metadata": {
      "needs_background": "light"
     },
     "output_type": "display_data"
    }
   ],
   "source": [
    "# Visualise the top 10 authors with maximum number of books\n",
    "plt.figure(figsize=(20,5))\n",
    "\n",
    "sns.countplot(x = \"authors\", data = df, \n",
    "              order = df['authors'].value_counts().iloc[:10].index, palette = \"inferno\")\n",
    "plt.title(\"Top 10 Authors with Maximum Books\")\n",
    "plt.xticks(rotation = 75,fontsize = 12)\n",
    "plt.show()\n"
   ]
  },
  {
   "cell_type": "markdown",
   "metadata": {},
   "source": [
    "We observe that maximum number of books are written by **Stephen King**"
   ]
  },
  {
   "cell_type": "code",
   "execution_count": 32,
   "metadata": {},
   "outputs": [
    {
     "data": {
      "text/plain": [
       "eng      8908\n",
       "en-US    1408\n",
       "spa       218\n",
       "en-GB     214\n",
       "fre       144\n",
       "ger        99\n",
       "jpn        46\n",
       "mul        19\n",
       "zho        14\n",
       "grc        11\n",
       "por        10\n",
       "en-CA       7\n",
       "ita         5\n",
       "enm         3\n",
       "lat         3\n",
       "rus         2\n",
       "swe         2\n",
       "srp         1\n",
       "nor         1\n",
       "glg         1\n",
       "wel         1\n",
       "tur         1\n",
       "gla         1\n",
       "ale         1\n",
       "nl          1\n",
       "msa         1\n",
       "ara         1\n",
       "Name: language_code, dtype: int64"
      ]
     },
     "execution_count": 32,
     "metadata": {},
     "output_type": "execute_result"
    }
   ],
   "source": [
    "# Checking the value counts for language_code column\n",
    "df.language_code.value_counts()"
   ]
  },
  {
   "cell_type": "code",
   "execution_count": 33,
   "metadata": {},
   "outputs": [
    {
     "data": {
      "text/html": [
       "<style  type=\"text/css\" >\n",
       "#T_d2ed813f_0742_11ec_840b_830b57a78162row0_col0,#T_d2ed813f_0742_11ec_840b_830b57a78162row14_col0{\n",
       "            background-color:  #fe9000;\n",
       "            color:  #000000;\n",
       "        }#T_d2ed813f_0742_11ec_840b_830b57a78162row0_col1,#T_d2ed813f_0742_11ec_840b_830b57a78162row1_col1,#T_d2ed813f_0742_11ec_840b_830b57a78162row13_col2,#T_d2ed813f_0742_11ec_840b_830b57a78162row14_col1,#T_d2ed813f_0742_11ec_840b_830b57a78162row18_col1,#T_d2ed813f_0742_11ec_840b_830b57a78162row19_col1{\n",
       "            background-color:  #e4ff78;\n",
       "            color:  #000000;\n",
       "        }#T_d2ed813f_0742_11ec_840b_830b57a78162row0_col2{\n",
       "            background-color:  #e7fd71;\n",
       "            color:  #000000;\n",
       "        }#T_d2ed813f_0742_11ec_840b_830b57a78162row1_col0{\n",
       "            background-color:  #ffa500;\n",
       "            color:  #000000;\n",
       "        }#T_d2ed813f_0742_11ec_840b_830b57a78162row1_col2,#T_d2ed813f_0742_11ec_840b_830b57a78162row14_col2,#T_d2ed813f_0742_11ec_840b_830b57a78162row16_col1{\n",
       "            background-color:  #e6fe74;\n",
       "            color:  #000000;\n",
       "        }#T_d2ed813f_0742_11ec_840b_830b57a78162row2_col0{\n",
       "            background-color:  #fe9800;\n",
       "            color:  #000000;\n",
       "        }#T_d2ed813f_0742_11ec_840b_830b57a78162row2_col1{\n",
       "            background-color:  #f8ee32;\n",
       "            color:  #000000;\n",
       "        }#T_d2ed813f_0742_11ec_840b_830b57a78162row2_col2{\n",
       "            background-color:  #ffbd00;\n",
       "            color:  #000000;\n",
       "        }#T_d2ed813f_0742_11ec_840b_830b57a78162row3_col0,#T_d2ed813f_0742_11ec_840b_830b57a78162row4_col0,#T_d2ed813f_0742_11ec_840b_830b57a78162row5_col0,#T_d2ed813f_0742_11ec_840b_830b57a78162row19_col0,#T_d2ed813f_0742_11ec_840b_830b57a78162row21_col0{\n",
       "            background-color:  #ff9b00;\n",
       "            color:  #000000;\n",
       "        }#T_d2ed813f_0742_11ec_840b_830b57a78162row3_col1{\n",
       "            background-color:  #f0f54e;\n",
       "            color:  #000000;\n",
       "        }#T_d2ed813f_0742_11ec_840b_830b57a78162row3_col2{\n",
       "            background-color:  #f5f03c;\n",
       "            color:  #000000;\n",
       "        }#T_d2ed813f_0742_11ec_840b_830b57a78162row4_col1{\n",
       "            background-color:  #f7ef38;\n",
       "            color:  #000000;\n",
       "        }#T_d2ed813f_0742_11ec_840b_830b57a78162row4_col2{\n",
       "            background-color:  #ffe81b;\n",
       "            color:  #000000;\n",
       "        }#T_d2ed813f_0742_11ec_840b_830b57a78162row5_col1,#T_d2ed813f_0742_11ec_840b_830b57a78162row5_col2,#T_d2ed813f_0742_11ec_840b_830b57a78162row25_col0{\n",
       "            background-color:  #fc7f00;\n",
       "            color:  #000000;\n",
       "        }#T_d2ed813f_0742_11ec_840b_830b57a78162row6_col0{\n",
       "            background-color:  #ff9d00;\n",
       "            color:  #000000;\n",
       "        }#T_d2ed813f_0742_11ec_840b_830b57a78162row6_col1,#T_d2ed813f_0742_11ec_840b_830b57a78162row7_col1,#T_d2ed813f_0742_11ec_840b_830b57a78162row12_col1{\n",
       "            background-color:  #f4f141;\n",
       "            color:  #000000;\n",
       "        }#T_d2ed813f_0742_11ec_840b_830b57a78162row6_col2{\n",
       "            background-color:  #f2f348;\n",
       "            color:  #000000;\n",
       "        }#T_d2ed813f_0742_11ec_840b_830b57a78162row7_col0,#T_d2ed813f_0742_11ec_840b_830b57a78162row8_col0{\n",
       "            background-color:  #fe9a00;\n",
       "            color:  #000000;\n",
       "        }#T_d2ed813f_0742_11ec_840b_830b57a78162row7_col2{\n",
       "            background-color:  #eff654;\n",
       "            color:  #000000;\n",
       "        }#T_d2ed813f_0742_11ec_840b_830b57a78162row8_col1,#T_d2ed813f_0742_11ec_840b_830b57a78162row15_col2{\n",
       "            background-color:  #e5fe77;\n",
       "            color:  #000000;\n",
       "        }#T_d2ed813f_0742_11ec_840b_830b57a78162row8_col2,#T_d2ed813f_0742_11ec_840b_830b57a78162row17_col2,#T_d2ed813f_0742_11ec_840b_830b57a78162row18_col2{\n",
       "            background-color:  #e5fe75;\n",
       "            color:  #000000;\n",
       "        }#T_d2ed813f_0742_11ec_840b_830b57a78162row9_col0,#T_d2ed813f_0742_11ec_840b_830b57a78162row26_col0{\n",
       "            background-color:  #fd8d00;\n",
       "            color:  #000000;\n",
       "        }#T_d2ed813f_0742_11ec_840b_830b57a78162row9_col1,#T_d2ed813f_0742_11ec_840b_830b57a78162row9_col2,#T_d2ed813f_0742_11ec_840b_830b57a78162row10_col1,#T_d2ed813f_0742_11ec_840b_830b57a78162row10_col2,#T_d2ed813f_0742_11ec_840b_830b57a78162row11_col1,#T_d2ed813f_0742_11ec_840b_830b57a78162row11_col2,#T_d2ed813f_0742_11ec_840b_830b57a78162row13_col1,#T_d2ed813f_0742_11ec_840b_830b57a78162row15_col1,#T_d2ed813f_0742_11ec_840b_830b57a78162row17_col1,#T_d2ed813f_0742_11ec_840b_830b57a78162row22_col0,#T_d2ed813f_0742_11ec_840b_830b57a78162row22_col1,#T_d2ed813f_0742_11ec_840b_830b57a78162row22_col2,#T_d2ed813f_0742_11ec_840b_830b57a78162row25_col1,#T_d2ed813f_0742_11ec_840b_830b57a78162row25_col2,#T_d2ed813f_0742_11ec_840b_830b57a78162row26_col1,#T_d2ed813f_0742_11ec_840b_830b57a78162row26_col2{\n",
       "            background-color:  #e4ff7a;\n",
       "            color:  #000000;\n",
       "        }#T_d2ed813f_0742_11ec_840b_830b57a78162row10_col0{\n",
       "            background-color:  #ffa900;\n",
       "            color:  #000000;\n",
       "        }#T_d2ed813f_0742_11ec_840b_830b57a78162row11_col0{\n",
       "            background-color:  #ffa100;\n",
       "            color:  #000000;\n",
       "        }#T_d2ed813f_0742_11ec_840b_830b57a78162row12_col0{\n",
       "            background-color:  #fe9700;\n",
       "            color:  #000000;\n",
       "        }#T_d2ed813f_0742_11ec_840b_830b57a78162row12_col2{\n",
       "            background-color:  #edf759;\n",
       "            color:  #000000;\n",
       "        }#T_d2ed813f_0742_11ec_840b_830b57a78162row13_col0{\n",
       "            background-color:  #fe9200;\n",
       "            color:  #000000;\n",
       "        }#T_d2ed813f_0742_11ec_840b_830b57a78162row15_col0,#T_d2ed813f_0742_11ec_840b_830b57a78162row16_col0{\n",
       "            background-color:  #fe9600;\n",
       "            color:  #000000;\n",
       "        }#T_d2ed813f_0742_11ec_840b_830b57a78162row16_col2{\n",
       "            background-color:  #e7fc6f;\n",
       "            color:  #000000;\n",
       "        }#T_d2ed813f_0742_11ec_840b_830b57a78162row17_col0{\n",
       "            background-color:  #fe9400;\n",
       "            color:  #000000;\n",
       "        }#T_d2ed813f_0742_11ec_840b_830b57a78162row18_col0{\n",
       "            background-color:  #ffa300;\n",
       "            color:  #000000;\n",
       "        }#T_d2ed813f_0742_11ec_840b_830b57a78162row19_col2{\n",
       "            background-color:  #e6fd72;\n",
       "            color:  #000000;\n",
       "        }#T_d2ed813f_0742_11ec_840b_830b57a78162row20_col0{\n",
       "            background-color:  #fe9300;\n",
       "            color:  #000000;\n",
       "        }#T_d2ed813f_0742_11ec_840b_830b57a78162row20_col1{\n",
       "            background-color:  #faec2a;\n",
       "            color:  #000000;\n",
       "        }#T_d2ed813f_0742_11ec_840b_830b57a78162row20_col2{\n",
       "            background-color:  #f5f13f;\n",
       "            color:  #000000;\n",
       "        }#T_d2ed813f_0742_11ec_840b_830b57a78162row21_col1{\n",
       "            background-color:  #fbeb27;\n",
       "            color:  #000000;\n",
       "        }#T_d2ed813f_0742_11ec_840b_830b57a78162row21_col2{\n",
       "            background-color:  #f3f244;\n",
       "            color:  #000000;\n",
       "        }#T_d2ed813f_0742_11ec_840b_830b57a78162row23_col0{\n",
       "            background-color:  #ffa700;\n",
       "            color:  #000000;\n",
       "        }#T_d2ed813f_0742_11ec_840b_830b57a78162row23_col1{\n",
       "            background-color:  #f1f44b;\n",
       "            color:  #000000;\n",
       "        }#T_d2ed813f_0742_11ec_840b_830b57a78162row23_col2{\n",
       "            background-color:  #fee91d;\n",
       "            color:  #000000;\n",
       "        }#T_d2ed813f_0742_11ec_840b_830b57a78162row24_col0{\n",
       "            background-color:  #fd8e00;\n",
       "            color:  #000000;\n",
       "        }#T_d2ed813f_0742_11ec_840b_830b57a78162row24_col1{\n",
       "            background-color:  #e9fb69;\n",
       "            color:  #000000;\n",
       "        }#T_d2ed813f_0742_11ec_840b_830b57a78162row24_col2{\n",
       "            background-color:  #ebf962;\n",
       "            color:  #000000;\n",
       "        }</style><table id=\"T_d2ed813f_0742_11ec_840b_830b57a78162\" ><thead>    <tr>        <th class=\"blank level0\" ></th>        <th class=\"col_heading level0 col0\" >average_rating</th>        <th class=\"col_heading level0 col1\" >ratings_count</th>        <th class=\"col_heading level0 col2\" >text_reviews_count</th>    </tr>    <tr>        <th class=\"index_name level0\" >language_code</th>        <th class=\"blank\" ></th>        <th class=\"blank\" ></th>        <th class=\"blank\" ></th>    </tr></thead><tbody>\n",
       "                <tr>\n",
       "                        <th id=\"T_d2ed813f_0742_11ec_840b_830b57a78162level0_row0\" class=\"row_heading level0 row0\" >ale</th>\n",
       "                        <td id=\"T_d2ed813f_0742_11ec_840b_830b57a78162row0_col0\" class=\"data row0 col0\" >4.360000</td>\n",
       "                        <td id=\"T_d2ed813f_0742_11ec_840b_830b57a78162row0_col1\" class=\"data row0 col1\" >102.000000</td>\n",
       "                        <td id=\"T_d2ed813f_0742_11ec_840b_830b57a78162row0_col2\" class=\"data row0 col2\" >16.000000</td>\n",
       "            </tr>\n",
       "            <tr>\n",
       "                        <th id=\"T_d2ed813f_0742_11ec_840b_830b57a78162level0_row1\" class=\"row_heading level0 row1\" >ara</th>\n",
       "                        <td id=\"T_d2ed813f_0742_11ec_840b_830b57a78162row1_col0\" class=\"data row1 col0\" >3.550000</td>\n",
       "                        <td id=\"T_d2ed813f_0742_11ec_840b_830b57a78162row1_col1\" class=\"data row1 col1\" >122.000000</td>\n",
       "                        <td id=\"T_d2ed813f_0742_11ec_840b_830b57a78162row1_col2\" class=\"data row1 col2\" >12.000000</td>\n",
       "            </tr>\n",
       "            <tr>\n",
       "                        <th id=\"T_d2ed813f_0742_11ec_840b_830b57a78162level0_row2\" class=\"row_heading level0 row2\" >en-CA</th>\n",
       "                        <td id=\"T_d2ed813f_0742_11ec_840b_830b57a78162row2_col0\" class=\"data row2 col0\" >4.025714</td>\n",
       "                        <td id=\"T_d2ed813f_0742_11ec_840b_830b57a78162row2_col1\" class=\"data row2 col1\" >4086.714286</td>\n",
       "                        <td id=\"T_d2ed813f_0742_11ec_840b_830b57a78162row2_col2\" class=\"data row2 col2\" >324.428571</td>\n",
       "            </tr>\n",
       "            <tr>\n",
       "                        <th id=\"T_d2ed813f_0742_11ec_840b_830b57a78162level0_row3\" class=\"row_heading level0 row3\" >en-GB</th>\n",
       "                        <td id=\"T_d2ed813f_0742_11ec_840b_830b57a78162row3_col0\" class=\"data row3 col0\" >3.923411</td>\n",
       "                        <td id=\"T_d2ed813f_0742_11ec_840b_830b57a78162row3_col1\" class=\"data row3 col1\" >2463.691589</td>\n",
       "                        <td id=\"T_d2ed813f_0742_11ec_840b_830b57a78162row3_col2\" class=\"data row3 col2\" >104.060748</td>\n",
       "            </tr>\n",
       "            <tr>\n",
       "                        <th id=\"T_d2ed813f_0742_11ec_840b_830b57a78162level0_row4\" class=\"row_heading level0 row4\" >en-US</th>\n",
       "                        <td id=\"T_d2ed813f_0742_11ec_840b_830b57a78162row4_col0\" class=\"data row4 col0\" >3.914659</td>\n",
       "                        <td id=\"T_d2ed813f_0742_11ec_840b_830b57a78162row4_col1\" class=\"data row4 col1\" >3773.906960</td>\n",
       "                        <td id=\"T_d2ed813f_0742_11ec_840b_830b57a78162row4_col2\" class=\"data row4 col2\" >160.357244</td>\n",
       "            </tr>\n",
       "            <tr>\n",
       "                        <th id=\"T_d2ed813f_0742_11ec_840b_830b57a78162level0_row5\" class=\"row_heading level0 row5\" >eng</th>\n",
       "                        <td id=\"T_d2ed813f_0742_11ec_840b_830b57a78162row5_col0\" class=\"data row5 col0\" >3.934062</td>\n",
       "                        <td id=\"T_d2ed813f_0742_11ec_840b_830b57a78162row5_col1\" class=\"data row5 col1\" >21570.272564</td>\n",
       "                        <td id=\"T_d2ed813f_0742_11ec_840b_830b57a78162row5_col2\" class=\"data row5 col2\" >645.156601</td>\n",
       "            </tr>\n",
       "            <tr>\n",
       "                        <th id=\"T_d2ed813f_0742_11ec_840b_830b57a78162level0_row6\" class=\"row_heading level0 row6\" >enm</th>\n",
       "                        <td id=\"T_d2ed813f_0742_11ec_840b_830b57a78162row6_col0\" class=\"data row6 col0\" >3.873333</td>\n",
       "                        <td id=\"T_d2ed813f_0742_11ec_840b_830b57a78162row6_col1\" class=\"data row6 col1\" >3233.666667</td>\n",
       "                        <td id=\"T_d2ed813f_0742_11ec_840b_830b57a78162row6_col2\" class=\"data row6 col2\" >84.000000</td>\n",
       "            </tr>\n",
       "            <tr>\n",
       "                        <th id=\"T_d2ed813f_0742_11ec_840b_830b57a78162level0_row7\" class=\"row_heading level0 row7\" >fre</th>\n",
       "                        <td id=\"T_d2ed813f_0742_11ec_840b_830b57a78162row7_col0\" class=\"data row7 col0\" >3.971528</td>\n",
       "                        <td id=\"T_d2ed813f_0742_11ec_840b_830b57a78162row7_col1\" class=\"data row7 col1\" >3277.319444</td>\n",
       "                        <td id=\"T_d2ed813f_0742_11ec_840b_830b57a78162row7_col2\" class=\"data row7 col2\" >64.513889</td>\n",
       "            </tr>\n",
       "            <tr>\n",
       "                        <th id=\"T_d2ed813f_0742_11ec_840b_830b57a78162level0_row8\" class=\"row_heading level0 row8\" >ger</th>\n",
       "                        <td id=\"T_d2ed813f_0742_11ec_840b_830b57a78162row8_col0\" class=\"data row8 col0\" >3.950101</td>\n",
       "                        <td id=\"T_d2ed813f_0742_11ec_840b_830b57a78162row8_col1\" class=\"data row8 col1\" >234.727273</td>\n",
       "                        <td id=\"T_d2ed813f_0742_11ec_840b_830b57a78162row8_col2\" class=\"data row8 col2\" >8.232323</td>\n",
       "            </tr>\n",
       "            <tr>\n",
       "                        <th id=\"T_d2ed813f_0742_11ec_840b_830b57a78162level0_row9\" class=\"row_heading level0 row9\" >gla</th>\n",
       "                        <td id=\"T_d2ed813f_0742_11ec_840b_830b57a78162row9_col0\" class=\"data row9 col0\" >4.470000</td>\n",
       "                        <td id=\"T_d2ed813f_0742_11ec_840b_830b57a78162row9_col1\" class=\"data row9 col1\" >11.000000</td>\n",
       "                        <td id=\"T_d2ed813f_0742_11ec_840b_830b57a78162row9_col2\" class=\"data row9 col2\" >0.000000</td>\n",
       "            </tr>\n",
       "            <tr>\n",
       "                        <th id=\"T_d2ed813f_0742_11ec_840b_830b57a78162level0_row10\" class=\"row_heading level0 row10\" >glg</th>\n",
       "                        <td id=\"T_d2ed813f_0742_11ec_840b_830b57a78162row10_col0\" class=\"data row10 col0\" >3.360000</td>\n",
       "                        <td id=\"T_d2ed813f_0742_11ec_840b_830b57a78162row10_col1\" class=\"data row10 col1\" >36.000000</td>\n",
       "                        <td id=\"T_d2ed813f_0742_11ec_840b_830b57a78162row10_col2\" class=\"data row10 col2\" >2.000000</td>\n",
       "            </tr>\n",
       "            <tr>\n",
       "                        <th id=\"T_d2ed813f_0742_11ec_840b_830b57a78162level0_row11\" class=\"row_heading level0 row11\" >grc</th>\n",
       "                        <td id=\"T_d2ed813f_0742_11ec_840b_830b57a78162row11_col0\" class=\"data row11 col0\" >3.707273</td>\n",
       "                        <td id=\"T_d2ed813f_0742_11ec_840b_830b57a78162row11_col1\" class=\"data row11 col1\" >52.454545</td>\n",
       "                        <td id=\"T_d2ed813f_0742_11ec_840b_830b57a78162row11_col2\" class=\"data row11 col2\" >2.454545</td>\n",
       "            </tr>\n",
       "            <tr>\n",
       "                        <th id=\"T_d2ed813f_0742_11ec_840b_830b57a78162level0_row12\" class=\"row_heading level0 row12\" >ita</th>\n",
       "                        <td id=\"T_d2ed813f_0742_11ec_840b_830b57a78162row12_col0\" class=\"data row12 col0\" >4.078000</td>\n",
       "                        <td id=\"T_d2ed813f_0742_11ec_840b_830b57a78162row12_col1\" class=\"data row12 col1\" >3234.400000</td>\n",
       "                        <td id=\"T_d2ed813f_0742_11ec_840b_830b57a78162row12_col2\" class=\"data row12 col2\" >55.800000</td>\n",
       "            </tr>\n",
       "            <tr>\n",
       "                        <th id=\"T_d2ed813f_0742_11ec_840b_830b57a78162level0_row13\" class=\"row_heading level0 row13\" >jpn</th>\n",
       "                        <td id=\"T_d2ed813f_0742_11ec_840b_830b57a78162row13_col0\" class=\"data row13 col0\" >4.268696</td>\n",
       "                        <td id=\"T_d2ed813f_0742_11ec_840b_830b57a78162row13_col1\" class=\"data row13 col1\" >68.304348</td>\n",
       "                        <td id=\"T_d2ed813f_0742_11ec_840b_830b57a78162row13_col2\" class=\"data row13 col2\" >3.152174</td>\n",
       "            </tr>\n",
       "            <tr>\n",
       "                        <th id=\"T_d2ed813f_0742_11ec_840b_830b57a78162level0_row14\" class=\"row_heading level0 row14\" >lat</th>\n",
       "                        <td id=\"T_d2ed813f_0742_11ec_840b_830b57a78162row14_col0\" class=\"data row14 col0\" >4.353333</td>\n",
       "                        <td id=\"T_d2ed813f_0742_11ec_840b_830b57a78162row14_col1\" class=\"data row14 col1\" >114.666667</td>\n",
       "                        <td id=\"T_d2ed813f_0742_11ec_840b_830b57a78162row14_col2\" class=\"data row14 col2\" >12.333333</td>\n",
       "            </tr>\n",
       "            <tr>\n",
       "                        <th id=\"T_d2ed813f_0742_11ec_840b_830b57a78162level0_row15\" class=\"row_heading level0 row15\" >msa</th>\n",
       "                        <td id=\"T_d2ed813f_0742_11ec_840b_830b57a78162row15_col0\" class=\"data row15 col0\" >4.110000</td>\n",
       "                        <td id=\"T_d2ed813f_0742_11ec_840b_830b57a78162row15_col1\" class=\"data row15 col1\" >28.000000</td>\n",
       "                        <td id=\"T_d2ed813f_0742_11ec_840b_830b57a78162row15_col2\" class=\"data row15 col2\" >6.000000</td>\n",
       "            </tr>\n",
       "            <tr>\n",
       "                        <th id=\"T_d2ed813f_0742_11ec_840b_830b57a78162level0_row16\" class=\"row_heading level0 row16\" >mul</th>\n",
       "                        <td id=\"T_d2ed813f_0742_11ec_840b_830b57a78162row16_col0\" class=\"data row16 col0\" >4.126316</td>\n",
       "                        <td id=\"T_d2ed813f_0742_11ec_840b_830b57a78162row16_col1\" class=\"data row16 col1\" >386.631579</td>\n",
       "                        <td id=\"T_d2ed813f_0742_11ec_840b_830b57a78162row16_col2\" class=\"data row16 col2\" >19.263158</td>\n",
       "            </tr>\n",
       "            <tr>\n",
       "                        <th id=\"T_d2ed813f_0742_11ec_840b_830b57a78162level0_row17\" class=\"row_heading level0 row17\" >nl</th>\n",
       "                        <td id=\"T_d2ed813f_0742_11ec_840b_830b57a78162row17_col0\" class=\"data row17 col0\" >4.180000</td>\n",
       "                        <td id=\"T_d2ed813f_0742_11ec_840b_830b57a78162row17_col1\" class=\"data row17 col1\" >67.000000</td>\n",
       "                        <td id=\"T_d2ed813f_0742_11ec_840b_830b57a78162row17_col2\" class=\"data row17 col2\" >9.000000</td>\n",
       "            </tr>\n",
       "            <tr>\n",
       "                        <th id=\"T_d2ed813f_0742_11ec_840b_830b57a78162level0_row18\" class=\"row_heading level0 row18\" >nor</th>\n",
       "                        <td id=\"T_d2ed813f_0742_11ec_840b_830b57a78162row18_col0\" class=\"data row18 col0\" >3.600000</td>\n",
       "                        <td id=\"T_d2ed813f_0742_11ec_840b_830b57a78162row18_col1\" class=\"data row18 col1\" >86.000000</td>\n",
       "                        <td id=\"T_d2ed813f_0742_11ec_840b_830b57a78162row18_col2\" class=\"data row18 col2\" >8.000000</td>\n",
       "            </tr>\n",
       "            <tr>\n",
       "                        <th id=\"T_d2ed813f_0742_11ec_840b_830b57a78162level0_row19\" class=\"row_heading level0 row19\" >por</th>\n",
       "                        <td id=\"T_d2ed813f_0742_11ec_840b_830b57a78162row19_col0\" class=\"data row19 col0\" >3.945000</td>\n",
       "                        <td id=\"T_d2ed813f_0742_11ec_840b_830b57a78162row19_col1\" class=\"data row19 col1\" >165.100000</td>\n",
       "                        <td id=\"T_d2ed813f_0742_11ec_840b_830b57a78162row19_col2\" class=\"data row19 col2\" >13.500000</td>\n",
       "            </tr>\n",
       "            <tr>\n",
       "                        <th id=\"T_d2ed813f_0742_11ec_840b_830b57a78162level0_row20\" class=\"row_heading level0 row20\" >rus</th>\n",
       "                        <td id=\"T_d2ed813f_0742_11ec_840b_830b57a78162row20_col0\" class=\"data row20 col0\" >4.255000</td>\n",
       "                        <td id=\"T_d2ed813f_0742_11ec_840b_830b57a78162row20_col1\" class=\"data row20 col1\" >4477.000000</td>\n",
       "                        <td id=\"T_d2ed813f_0742_11ec_840b_830b57a78162row20_col2\" class=\"data row20 col2\" >98.500000</td>\n",
       "            </tr>\n",
       "            <tr>\n",
       "                        <th id=\"T_d2ed813f_0742_11ec_840b_830b57a78162level0_row21\" class=\"row_heading level0 row21\" >spa</th>\n",
       "                        <td id=\"T_d2ed813f_0742_11ec_840b_830b57a78162row21_col0\" class=\"data row21 col0\" >3.929312</td>\n",
       "                        <td id=\"T_d2ed813f_0742_11ec_840b_830b57a78162row21_col1\" class=\"data row21 col1\" >4636.114679</td>\n",
       "                        <td id=\"T_d2ed813f_0742_11ec_840b_830b57a78162row21_col2\" class=\"data row21 col2\" >91.123853</td>\n",
       "            </tr>\n",
       "            <tr>\n",
       "                        <th id=\"T_d2ed813f_0742_11ec_840b_830b57a78162level0_row22\" class=\"row_heading level0 row22\" >srp</th>\n",
       "                        <td id=\"T_d2ed813f_0742_11ec_840b_830b57a78162row22_col0\" class=\"data row22 col0\" >0.000000</td>\n",
       "                        <td id=\"T_d2ed813f_0742_11ec_840b_830b57a78162row22_col1\" class=\"data row22 col1\" >0.000000</td>\n",
       "                        <td id=\"T_d2ed813f_0742_11ec_840b_830b57a78162row22_col2\" class=\"data row22 col2\" >0.000000</td>\n",
       "            </tr>\n",
       "            <tr>\n",
       "                        <th id=\"T_d2ed813f_0742_11ec_840b_830b57a78162level0_row23\" class=\"row_heading level0 row23\" >swe</th>\n",
       "                        <td id=\"T_d2ed813f_0742_11ec_840b_830b57a78162row23_col0\" class=\"data row23 col0\" >3.455000</td>\n",
       "                        <td id=\"T_d2ed813f_0742_11ec_840b_830b57a78162row23_col1\" class=\"data row23 col1\" >2671.000000</td>\n",
       "                        <td id=\"T_d2ed813f_0742_11ec_840b_830b57a78162row23_col2\" class=\"data row23 col2\" >157.000000</td>\n",
       "            </tr>\n",
       "            <tr>\n",
       "                        <th id=\"T_d2ed813f_0742_11ec_840b_830b57a78162level0_row24\" class=\"row_heading level0 row24\" >tur</th>\n",
       "                        <td id=\"T_d2ed813f_0742_11ec_840b_830b57a78162row24_col0\" class=\"data row24 col0\" >4.420000</td>\n",
       "                        <td id=\"T_d2ed813f_0742_11ec_840b_830b57a78162row24_col1\" class=\"data row24 col1\" >1000.000000</td>\n",
       "                        <td id=\"T_d2ed813f_0742_11ec_840b_830b57a78162row24_col2\" class=\"data row24 col2\" >41.000000</td>\n",
       "            </tr>\n",
       "            <tr>\n",
       "                        <th id=\"T_d2ed813f_0742_11ec_840b_830b57a78162level0_row25\" class=\"row_heading level0 row25\" >wel</th>\n",
       "                        <td id=\"T_d2ed813f_0742_11ec_840b_830b57a78162row25_col0\" class=\"data row25 col0\" >5.000000</td>\n",
       "                        <td id=\"T_d2ed813f_0742_11ec_840b_830b57a78162row25_col1\" class=\"data row25 col1\" >1.000000</td>\n",
       "                        <td id=\"T_d2ed813f_0742_11ec_840b_830b57a78162row25_col2\" class=\"data row25 col2\" >0.000000</td>\n",
       "            </tr>\n",
       "            <tr>\n",
       "                        <th id=\"T_d2ed813f_0742_11ec_840b_830b57a78162level0_row26\" class=\"row_heading level0 row26\" >zho</th>\n",
       "                        <td id=\"T_d2ed813f_0742_11ec_840b_830b57a78162row26_col0\" class=\"data row26 col0\" >4.456429</td>\n",
       "                        <td id=\"T_d2ed813f_0742_11ec_840b_830b57a78162row26_col1\" class=\"data row26 col1\" >20.428571</td>\n",
       "                        <td id=\"T_d2ed813f_0742_11ec_840b_830b57a78162row26_col2\" class=\"data row26 col2\" >0.500000</td>\n",
       "            </tr>\n",
       "    </tbody></table>"
      ],
      "text/plain": [
       "<pandas.io.formats.style.Styler at 0x2aaaff79730>"
      ]
     },
     "execution_count": 33,
     "metadata": {},
     "output_type": "execute_result"
    }
   ],
   "source": [
    "# Checking the mean ratings_count, text_reviews_count and average_rating for each language code\n",
    "df.groupby(['language_code'])[['average_rating','ratings_count','text_reviews_count']].agg('mean').style.background_gradient(cmap='Wistia')"
   ]
  },
  {
   "cell_type": "code",
   "execution_count": 34,
   "metadata": {},
   "outputs": [
    {
     "name": "stdout",
     "output_type": "stream",
     "text": [
      "The Brothers Karamazov        9\n",
      "The Iliad                     9\n",
      "The Odyssey                   8\n",
      "Anna Karenina                 8\n",
      "Gulliver's Travels            8\n",
      "'Salem's Lot                  8\n",
      "A Midsummer Night's Dream     7\n",
      "The Picture of Dorian Gray    7\n",
      "Collected Stories             6\n",
      "The Secret Garden             6\n",
      "Treasure Island               6\n",
      "Jane Eyre                     6\n",
      "Sense and Sensibility         6\n",
      "Romeo and Juliet              6\n",
      "The Scarlet Letter            6\n",
      "Name: title, dtype: int64\n"
     ]
    }
   ],
   "source": [
    "book = df['title'].value_counts().iloc[:15] #returns series of top rated books\n",
    "print(book)"
   ]
  },
  {
   "cell_type": "code",
   "execution_count": 35,
   "metadata": {},
   "outputs": [
    {
     "data": {
      "image/png": "[encoded data removed]",
      "text/plain": [
       "<Figure size 1440x360 with 1 Axes>"
      ]
     },
     "metadata": {
      "needs_background": "light"
     },
     "output_type": "display_data"
    }
   ],
   "source": [
    "# Most occuring books in the data\n",
    "plt.figure(figsize = (20,5))\n",
    "\n",
    "book = df['title'].value_counts()[:15]\n",
    "sns.barplot(y=book, #count \n",
    "            x = book.index, #title\n",
    "            palette = 'winter_r') \n",
    "\n",
    "plt.title(\"Most occuring books\",fontsize = 25)\n",
    "plt.xlabel(\"Books\", fontsize = 20)\n",
    "plt.ylabel(\"Number of occurences\", fontsize = 20)\n",
    "plt.xticks(rotation = 75,fontsize = 13)\n",
    "plt.show()"
   ]
  },
  {
   "cell_type": "code",
   "execution_count": 46,
   "metadata": {},
   "outputs": [
    {
     "data": {
      "text/plain": [
       "Text(0, 0.5, 'Title')"
      ]
     },
     "execution_count": 46,
     "metadata": {},
     "output_type": "execute_result"
    },
    {
     "data": {
      "image/png": "[encoded data removed]",
      "text/plain": [
       "<Figure size 720x720 with 1 Axes>"
      ]
     },
     "metadata": {},
     "output_type": "display_data"
    }
   ],
   "source": [
    "# plotting top 10 books based on rating count > 90000 AND rating\n",
    "top_ten = df[df['ratings_count'] > 900000]\n",
    "top_ten.sort_values(by='average_rating', ascending=False)\n",
    "\n",
    "plt.figure(figsize=(10, 10))\n",
    "data = top_ten.sort_values(by='average_rating', ascending=False).head(10)\n",
    "sns.barplot(x=\"average_rating\", y=\"title\", data=data, palette='YlOrBr')\n",
    "\n",
    "plt.xlabel(\"Average Rating\", fontsize = 20)\n",
    "plt.ylabel(\"Title\", fontsize = 20)\n"
   ]
  },
  {
   "cell_type": "markdown",
   "metadata": {},
   "source": [
    "We observe that **Harry Potter series** has the highest rating"
   ]
  },
  {
   "cell_type": "code",
   "execution_count": 47,
   "metadata": {},
   "outputs": [
    {
     "name": "stderr",
     "output_type": "stream",
     "text": [
      "C:\\Users\\meetu\\anaconda3\\lib\\site-packages\\seaborn\\distributions.py:2551: FutureWarning: `distplot` is a deprecated function and will be removed in a future version. Please adapt your code to use either `displot` (a figure-level function with similar flexibility) or `histplot` (an axes-level function for histograms).\n",
      "  warnings.warn(msg, FutureWarning)\n"
     ]
    },
    {
     "data": {
      "image/png": "[encoded data removed]",
      "text/plain": [
       "<Figure size 432x288 with 1 Axes>"
      ]
     },
     "metadata": {},
     "output_type": "display_data"
    }
   ],
   "source": [
    "# distribution plot for average rating column\n",
    "sns.distplot(df['average_rating'])\n",
    "plt.show()"
   ]
  },
  {
   "cell_type": "code",
   "execution_count": 48,
   "metadata": {},
   "outputs": [
    {
     "data": {
      "text/plain": [
       "<seaborn.axisgrid.FacetGrid at 0x2aaaf5ca490>"
      ]
     },
     "execution_count": 48,
     "metadata": {},
     "output_type": "execute_result"
    },
    {
     "data": {
      "image/png": "[encoded data removed]",
      "text/plain": [
       "<Figure size 504x504 with 1 Axes>"
      ]
     },
     "metadata": {},
     "output_type": "display_data"
    }
   ],
   "source": [
    "ax = sns.relplot(data=df, x=\"average_rating\", y=\"ratings_count\", color = 'red', sizes=(100, 200), height=7, marker='o')\n",
    "plt.title(\"Relation between Rating counts and Average Ratings\",fontsize = 15)\n",
    "ax.set_axis_labels(\"Average Rating\", \"Ratings Count\")"
   ]
  },
  {
   "cell_type": "code",
   "execution_count": 49,
   "metadata": {},
   "outputs": [
    {
     "data": {
      "text/plain": [
       "<seaborn.axisgrid.FacetGrid at 0x2aaaf58fbb0>"
      ]
     },
     "execution_count": 49,
     "metadata": {},
     "output_type": "execute_result"
    },
    {
     "data": {
      "text/plain": [
       "<Figure size 1080x720 with 0 Axes>"
      ]
     },
     "metadata": {},
     "output_type": "display_data"
    },
    {
     "data": {
      "image/png": "[encoded data removed]",
      "text/plain": [
       "<Figure size 504x504 with 1 Axes>"
      ]
     },
     "metadata": {},
     "output_type": "display_data"
    }
   ],
   "source": [
    "plt.figure(figsize=(15,10))\n",
    "ax = sns.relplot(x=\"average_rating\", y=\"num_pages\", data = df, color = 'red',sizes=(100, 200), height=7, marker='o')\n",
    "ax.set_axis_labels(\"Average Rating\", \"Number of Pages\")"
   ]
  },
  {
   "cell_type": "code",
   "execution_count": 60,
   "metadata": {},
   "outputs": [
    {
     "data": {
      "text/html": [
       "<div>\n",
       "<style scoped>\n",
       "    .dataframe tbody tr th:only-of-type {\n",
       "        vertical-align: middle;\n",
       "    }\n",
       "\n",
       "    .dataframe tbody tr th {\n",
       "        vertical-align: top;\n",
       "    }\n",
       "\n",
       "    .dataframe thead th {\n",
       "        text-align: right;\n",
       "    }\n",
       "</style>\n",
       "<table border=\"1\" class=\"dataframe\">\n",
       "  <thead>\n",
       "    <tr style=\"text-align: right;\">\n",
       "      <th></th>\n",
       "      <th>average_rating</th>\n",
       "      <th>title</th>\n",
       "      <th>authors</th>\n",
       "      <th>language_code</th>\n",
       "      <th>publisher</th>\n",
       "    </tr>\n",
       "  </thead>\n",
       "  <tbody>\n",
       "    <tr>\n",
       "      <th>624</th>\n",
       "      <td>5.0</td>\n",
       "      <td>Comoediae 1: Acharenses/Equites/Nubes/Vespae/P...</td>\n",
       "      <td>Aristophanes/F.W. Hall/W.M. Geldart</td>\n",
       "      <td>grc</td>\n",
       "      <td>Oxford University Press  USA</td>\n",
       "    </tr>\n",
       "    <tr>\n",
       "      <th>786</th>\n",
       "      <td>5.0</td>\n",
       "      <td>Willem de Kooning: Late Paintings</td>\n",
       "      <td>Julie Sylvester/David Sylvester</td>\n",
       "      <td>eng</td>\n",
       "      <td>Schirmer Mosel</td>\n",
       "    </tr>\n",
       "    <tr>\n",
       "      <th>855</th>\n",
       "      <td>5.0</td>\n",
       "      <td>Literature Circle Guide: Bridge to Terabithia:...</td>\n",
       "      <td>Tara MacCarthy</td>\n",
       "      <td>eng</td>\n",
       "      <td>Teaching Resources</td>\n",
       "    </tr>\n",
       "    <tr>\n",
       "      <th>1243</th>\n",
       "      <td>5.0</td>\n",
       "      <td>Middlesex Borough (Images of America: New Jersey)</td>\n",
       "      <td>Middlesex Borough Heritage Committee</td>\n",
       "      <td>eng</td>\n",
       "      <td>Arcadia Publishing</td>\n",
       "    </tr>\n",
       "    <tr>\n",
       "      <th>4125</th>\n",
       "      <td>5.0</td>\n",
       "      <td>Zone of the Enders: The 2nd Runner Official St...</td>\n",
       "      <td>Tim Bogenn</td>\n",
       "      <td>eng</td>\n",
       "      <td>BradyGames</td>\n",
       "    </tr>\n",
       "    <tr>\n",
       "      <th>4788</th>\n",
       "      <td>5.0</td>\n",
       "      <td>The Diamond Color Meditation: Color Pathway to...</td>\n",
       "      <td>John  Diamond</td>\n",
       "      <td>eng</td>\n",
       "      <td>Square One Publishers</td>\n",
       "    </tr>\n",
       "    <tr>\n",
       "      <th>4933</th>\n",
       "      <td>5.0</td>\n",
       "      <td>Bulgakov's the Master and Margarita: The Text ...</td>\n",
       "      <td>Elena N. Mahlow</td>\n",
       "      <td>eng</td>\n",
       "      <td>Vantage Press</td>\n",
       "    </tr>\n",
       "    <tr>\n",
       "      <th>5023</th>\n",
       "      <td>5.0</td>\n",
       "      <td>The Complete Theory Fun Factory: Music Theory ...</td>\n",
       "      <td>Ian        Martin/Katie Elliott</td>\n",
       "      <td>eng</td>\n",
       "      <td>Boosey &amp; Hawkes Inc</td>\n",
       "    </tr>\n",
       "    <tr>\n",
       "      <th>5474</th>\n",
       "      <td>5.0</td>\n",
       "      <td>The Goon Show  Volume 4: My Knees Have Fallen ...</td>\n",
       "      <td>NOT A BOOK</td>\n",
       "      <td>eng</td>\n",
       "      <td>BBC Physical Audio</td>\n",
       "    </tr>\n",
       "    <tr>\n",
       "      <th>5476</th>\n",
       "      <td>5.0</td>\n",
       "      <td>The Goon Show  Volume 11: He's Fallen in the W...</td>\n",
       "      <td>NOT A BOOK</td>\n",
       "      <td>eng</td>\n",
       "      <td>BBC Physical Audio</td>\n",
       "    </tr>\n",
       "  </tbody>\n",
       "</table>\n",
       "</div>"
      ],
      "text/plain": [
       "      average_rating                                              title  \\\n",
       "624              5.0  Comoediae 1: Acharenses/Equites/Nubes/Vespae/P...   \n",
       "786              5.0                  Willem de Kooning: Late Paintings   \n",
       "855              5.0  Literature Circle Guide: Bridge to Terabithia:...   \n",
       "1243             5.0  Middlesex Borough (Images of America: New Jersey)   \n",
       "4125             5.0  Zone of the Enders: The 2nd Runner Official St...   \n",
       "4788             5.0  The Diamond Color Meditation: Color Pathway to...   \n",
       "4933             5.0  Bulgakov's the Master and Margarita: The Text ...   \n",
       "5023             5.0  The Complete Theory Fun Factory: Music Theory ...   \n",
       "5474             5.0  The Goon Show  Volume 4: My Knees Have Fallen ...   \n",
       "5476             5.0  The Goon Show  Volume 11: He's Fallen in the W...   \n",
       "\n",
       "                                   authors language_code  \\\n",
       "624    Aristophanes/F.W. Hall/W.M. Geldart           grc   \n",
       "786        Julie Sylvester/David Sylvester           eng   \n",
       "855                         Tara MacCarthy           eng   \n",
       "1243  Middlesex Borough Heritage Committee           eng   \n",
       "4125                            Tim Bogenn           eng   \n",
       "4788                         John  Diamond           eng   \n",
       "4933                       Elena N. Mahlow           eng   \n",
       "5023       Ian        Martin/Katie Elliott           eng   \n",
       "5474                            NOT A BOOK           eng   \n",
       "5476                            NOT A BOOK           eng   \n",
       "\n",
       "                         publisher  \n",
       "624   Oxford University Press  USA  \n",
       "786                 Schirmer Mosel  \n",
       "855             Teaching Resources  \n",
       "1243            Arcadia Publishing  \n",
       "4125                    BradyGames  \n",
       "4788         Square One Publishers  \n",
       "4933                 Vantage Press  \n",
       "5023           Boosey & Hawkes Inc  \n",
       "5474            BBC Physical Audio  \n",
       "5476            BBC Physical Audio  "
      ]
     },
     "execution_count": 60,
     "metadata": {},
     "output_type": "execute_result"
    }
   ],
   "source": [
    "# top 10 books with the highest average ratings\n",
    "df[df.average_rating == df.average_rating.max()][['average_rating','title','authors','language_code','publisher']].head(10)"
   ]
  },
  {
   "cell_type": "code",
   "execution_count": 61,
   "metadata": {},
   "outputs": [
    {
     "data": {
      "text/html": [
       "<div>\n",
       "<style scoped>\n",
       "    .dataframe tbody tr th:only-of-type {\n",
       "        vertical-align: middle;\n",
       "    }\n",
       "\n",
       "    .dataframe tbody tr th {\n",
       "        vertical-align: top;\n",
       "    }\n",
       "\n",
       "    .dataframe thead th {\n",
       "        text-align: right;\n",
       "    }\n",
       "</style>\n",
       "<table border=\"1\" class=\"dataframe\">\n",
       "  <thead>\n",
       "    <tr style=\"text-align: right;\">\n",
       "      <th></th>\n",
       "      <th>title</th>\n",
       "      <th>authors</th>\n",
       "      <th>language_code</th>\n",
       "      <th>publisher</th>\n",
       "    </tr>\n",
       "  </thead>\n",
       "  <tbody>\n",
       "    <tr>\n",
       "      <th>265</th>\n",
       "      <td>Out to Eat London 2002 (Lonely Planet Out to Eat)</td>\n",
       "      <td>Lonely Planet/Mark Honan</td>\n",
       "      <td>eng</td>\n",
       "      <td>Lonely Planet</td>\n",
       "    </tr>\n",
       "    <tr>\n",
       "      <th>375</th>\n",
       "      <td>Juiced Official Strategy Guide</td>\n",
       "      <td>Doug Walsh</td>\n",
       "      <td>eng</td>\n",
       "      <td>BradyGames</td>\n",
       "    </tr>\n",
       "    <tr>\n",
       "      <th>987</th>\n",
       "      <td>Open City 6: The Only Woman He Ever Left</td>\n",
       "      <td>Open City Magazine/James Purdy/Daniel Pinchbec...</td>\n",
       "      <td>eng</td>\n",
       "      <td>Grove Press  Open City Books</td>\n",
       "    </tr>\n",
       "    <tr>\n",
       "      <th>2532</th>\n",
       "      <td>How To Meditate: An Anthology Of Talks On Medi...</td>\n",
       "      <td>Frederick P. Lenz</td>\n",
       "      <td>eng</td>\n",
       "      <td>Frederick P. Lenz Foundation for American Budd...</td>\n",
       "    </tr>\n",
       "    <tr>\n",
       "      <th>2533</th>\n",
       "      <td>Insights: Talks On The Nature Of Existence</td>\n",
       "      <td>Frederick P. Lenz</td>\n",
       "      <td>eng</td>\n",
       "      <td>Frederick P. Lenz Foundation for American Budd...</td>\n",
       "    </tr>\n",
       "    <tr>\n",
       "      <th>2758</th>\n",
       "      <td>Venac sonetnih venaca; Puževa srma</td>\n",
       "      <td>Dobrica Erić</td>\n",
       "      <td>srp</td>\n",
       "      <td>Izdavačka agencija \"Draganić\"</td>\n",
       "    </tr>\n",
       "    <tr>\n",
       "      <th>3492</th>\n",
       "      <td>Brodie's notes on Aldous Huxley's brave new world</td>\n",
       "      <td>Graham Handley</td>\n",
       "      <td>eng</td>\n",
       "      <td>Macmillan</td>\n",
       "    </tr>\n",
       "    <tr>\n",
       "      <th>4241</th>\n",
       "      <td>American Film Guide</td>\n",
       "      <td>Frank N. Magill</td>\n",
       "      <td>eng</td>\n",
       "      <td>Salem Press Inc</td>\n",
       "    </tr>\n",
       "    <tr>\n",
       "      <th>4677</th>\n",
       "      <td>The Man and the Author: John Milton: Twentieth...</td>\n",
       "      <td>J. Martin Evans</td>\n",
       "      <td>eng</td>\n",
       "      <td>Routledge</td>\n",
       "    </tr>\n",
       "    <tr>\n",
       "      <th>5323</th>\n",
       "      <td>Canopy: A Work for Voice and Light in Harvard ...</td>\n",
       "      <td>David   Ward/Parveen Adams/Seamus Heaney/Ivan ...</td>\n",
       "      <td>eng</td>\n",
       "      <td>Arts Publications</td>\n",
       "    </tr>\n",
       "    <tr>\n",
       "      <th>6380</th>\n",
       "      <td>Laguna  I Love You: The Best of \"Our Town\"</td>\n",
       "      <td>John Weld/Phil Interlandi</td>\n",
       "      <td>eng</td>\n",
       "      <td>Fithian Press</td>\n",
       "    </tr>\n",
       "    <tr>\n",
       "      <th>6558</th>\n",
       "      <td>American Writers  Supplement VIII</td>\n",
       "      <td>Jay Parini/August Wilson</td>\n",
       "      <td>eng</td>\n",
       "      <td>Gale Cengage</td>\n",
       "    </tr>\n",
       "    <tr>\n",
       "      <th>6859</th>\n",
       "      <td>The Road To War  1933 39</td>\n",
       "      <td>Andrew      Hunt</td>\n",
       "      <td>eng</td>\n",
       "      <td>Hodder &amp; Stoughton Educational Division</td>\n",
       "    </tr>\n",
       "    <tr>\n",
       "      <th>6877</th>\n",
       "      <td>I'll Be Home Before Midnight and I Won't Get P...</td>\n",
       "      <td>Anthony E. Wolf</td>\n",
       "      <td>eng</td>\n",
       "      <td>Knopf Doubleday Publishing Group</td>\n",
       "    </tr>\n",
       "    <tr>\n",
       "      <th>7144</th>\n",
       "      <td>Mythographi Graeci 1: Apollodori Bibliotheca  ...</td>\n",
       "      <td>Apollodorus/Richard Wagner</td>\n",
       "      <td>grc</td>\n",
       "      <td>K.G. Saur Verlag</td>\n",
       "    </tr>\n",
       "    <tr>\n",
       "      <th>7399</th>\n",
       "      <td>Sclerotherapy and vein treatment</td>\n",
       "      <td>Robert A. Weiss/Margaret A. Weiss/Karen L. Bea...</td>\n",
       "      <td>eng</td>\n",
       "      <td>McGraw-Hill Professional Publishing</td>\n",
       "    </tr>\n",
       "    <tr>\n",
       "      <th>7573</th>\n",
       "      <td>The Berlin Phenomenology</td>\n",
       "      <td>Georg Wilhelm Friedrich Hegel/Michael John Petry</td>\n",
       "      <td>eng</td>\n",
       "      <td>Springer</td>\n",
       "    </tr>\n",
       "    <tr>\n",
       "      <th>7634</th>\n",
       "      <td>Your Child and Jesus: A Family Activity Book</td>\n",
       "      <td>Rick Osborne/Kevin Miller</td>\n",
       "      <td>eng</td>\n",
       "      <td>Moody Publishers</td>\n",
       "    </tr>\n",
       "    <tr>\n",
       "      <th>7797</th>\n",
       "      <td>Beckett Football Card Price Guide</td>\n",
       "      <td>Dan Hitt/James Beckett III</td>\n",
       "      <td>eng</td>\n",
       "      <td>Beckett Media</td>\n",
       "    </tr>\n",
       "    <tr>\n",
       "      <th>9331</th>\n",
       "      <td>Random House Crossword Mega Omnibus  Volume 1</td>\n",
       "      <td>United Feature Syndication</td>\n",
       "      <td>eng</td>\n",
       "      <td>Random House Puzzles &amp; Games</td>\n",
       "    </tr>\n",
       "    <tr>\n",
       "      <th>9437</th>\n",
       "      <td>Classroom Interactions as Cross-Cultural Encou...</td>\n",
       "      <td>Jasmine C.M. Luk/Angel M.Y. Lin</td>\n",
       "      <td>eng</td>\n",
       "      <td>Routledge</td>\n",
       "    </tr>\n",
       "    <tr>\n",
       "      <th>10138</th>\n",
       "      <td>Day and Night</td>\n",
       "      <td>Better Homes and Gardens</td>\n",
       "      <td>eng</td>\n",
       "      <td>Meredith Corporation</td>\n",
       "    </tr>\n",
       "    <tr>\n",
       "      <th>10497</th>\n",
       "      <td>The Fantastic Vampire: Studies in the Children...</td>\n",
       "      <td>James Craig Holte</td>\n",
       "      <td>eng</td>\n",
       "      <td>Greenwood Press</td>\n",
       "    </tr>\n",
       "    <tr>\n",
       "      <th>10917</th>\n",
       "      <td>The Leadership Challenge: Skills for Taking Ch...</td>\n",
       "      <td>Warren G. Bennis</td>\n",
       "      <td>eng</td>\n",
       "      <td>AMR/Advanced Management Reports</td>\n",
       "    </tr>\n",
       "    <tr>\n",
       "      <th>11027</th>\n",
       "      <td>Anthony Thwaite: In Conversation With Peter Da...</td>\n",
       "      <td>Peter  Dale/Ian          Hamilton/Anthony Thwaite</td>\n",
       "      <td>eng</td>\n",
       "      <td>Between the Lines Productions</td>\n",
       "    </tr>\n",
       "  </tbody>\n",
       "</table>\n",
       "</div>"
      ],
      "text/plain": [
       "                                                   title  \\\n",
       "265    Out to Eat London 2002 (Lonely Planet Out to Eat)   \n",
       "375                       Juiced Official Strategy Guide   \n",
       "987             Open City 6: The Only Woman He Ever Left   \n",
       "2532   How To Meditate: An Anthology Of Talks On Medi...   \n",
       "2533          Insights: Talks On The Nature Of Existence   \n",
       "2758                 Venac sonetnih venaca; Puževa srma   \n",
       "3492   Brodie's notes on Aldous Huxley's brave new world   \n",
       "4241                                 American Film Guide   \n",
       "4677   The Man and the Author: John Milton: Twentieth...   \n",
       "5323   Canopy: A Work for Voice and Light in Harvard ...   \n",
       "6380          Laguna  I Love You: The Best of \"Our Town\"   \n",
       "6558                   American Writers  Supplement VIII   \n",
       "6859                            The Road To War  1933 39   \n",
       "6877   I'll Be Home Before Midnight and I Won't Get P...   \n",
       "7144   Mythographi Graeci 1: Apollodori Bibliotheca  ...   \n",
       "7399                    Sclerotherapy and vein treatment   \n",
       "7573                            The Berlin Phenomenology   \n",
       "7634        Your Child and Jesus: A Family Activity Book   \n",
       "7797                   Beckett Football Card Price Guide   \n",
       "9331       Random House Crossword Mega Omnibus  Volume 1   \n",
       "9437   Classroom Interactions as Cross-Cultural Encou...   \n",
       "10138                                      Day and Night   \n",
       "10497  The Fantastic Vampire: Studies in the Children...   \n",
       "10917  The Leadership Challenge: Skills for Taking Ch...   \n",
       "11027  Anthony Thwaite: In Conversation With Peter Da...   \n",
       "\n",
       "                                                 authors language_code  \\\n",
       "265                             Lonely Planet/Mark Honan           eng   \n",
       "375                                           Doug Walsh           eng   \n",
       "987    Open City Magazine/James Purdy/Daniel Pinchbec...           eng   \n",
       "2532                                   Frederick P. Lenz           eng   \n",
       "2533                                   Frederick P. Lenz           eng   \n",
       "2758                                        Dobrica Erić           srp   \n",
       "3492                                      Graham Handley           eng   \n",
       "4241                                     Frank N. Magill           eng   \n",
       "4677                                     J. Martin Evans           eng   \n",
       "5323   David   Ward/Parveen Adams/Seamus Heaney/Ivan ...           eng   \n",
       "6380                           John Weld/Phil Interlandi           eng   \n",
       "6558                            Jay Parini/August Wilson           eng   \n",
       "6859                                    Andrew      Hunt           eng   \n",
       "6877                                     Anthony E. Wolf           eng   \n",
       "7144                          Apollodorus/Richard Wagner           grc   \n",
       "7399   Robert A. Weiss/Margaret A. Weiss/Karen L. Bea...           eng   \n",
       "7573    Georg Wilhelm Friedrich Hegel/Michael John Petry           eng   \n",
       "7634                           Rick Osborne/Kevin Miller           eng   \n",
       "7797                          Dan Hitt/James Beckett III           eng   \n",
       "9331                          United Feature Syndication           eng   \n",
       "9437                     Jasmine C.M. Luk/Angel M.Y. Lin           eng   \n",
       "10138                           Better Homes and Gardens           eng   \n",
       "10497                                  James Craig Holte           eng   \n",
       "10917                                   Warren G. Bennis           eng   \n",
       "11027  Peter  Dale/Ian          Hamilton/Anthony Thwaite           eng   \n",
       "\n",
       "                                               publisher  \n",
       "265                                        Lonely Planet  \n",
       "375                                           BradyGames  \n",
       "987                         Grove Press  Open City Books  \n",
       "2532   Frederick P. Lenz Foundation for American Budd...  \n",
       "2533   Frederick P. Lenz Foundation for American Budd...  \n",
       "2758                      Izdavačka agencija \"Draganić\"  \n",
       "3492                                           Macmillan  \n",
       "4241                                     Salem Press Inc  \n",
       "4677                                           Routledge  \n",
       "5323                                   Arts Publications  \n",
       "6380                                       Fithian Press  \n",
       "6558                                        Gale Cengage  \n",
       "6859             Hodder & Stoughton Educational Division  \n",
       "6877                    Knopf Doubleday Publishing Group  \n",
       "7144                                    K.G. Saur Verlag  \n",
       "7399                 McGraw-Hill Professional Publishing  \n",
       "7573                                            Springer  \n",
       "7634                                    Moody Publishers  \n",
       "7797                                       Beckett Media  \n",
       "9331                        Random House Puzzles & Games  \n",
       "9437                                           Routledge  \n",
       "10138                               Meredith Corporation  \n",
       "10497                                    Greenwood Press  \n",
       "10917                    AMR/Advanced Management Reports  \n",
       "11027                      Between the Lines Productions  "
      ]
     },
     "execution_count": 61,
     "metadata": {},
     "output_type": "execute_result"
    }
   ],
   "source": [
    "# books with lowest average ratings\n",
    "df[df.average_rating == df.average_rating.min()][['title','authors','language_code','publisher']]"
   ]
  },
  {
   "cell_type": "code",
   "execution_count": 62,
   "metadata": {},
   "outputs": [
    {
     "data": {
      "image/png": "[encoded data removed]",
      "text/plain": [
       "<Figure size 1440x360 with 1 Axes>"
      ]
     },
     "metadata": {},
     "output_type": "display_data"
    }
   ],
   "source": [
    "# Top publishers with maximum books\n",
    "\n",
    "plt.figure(figsize = (20,5))\n",
    "\n",
    "publisher = df['publisher'].value_counts()[:15]\n",
    "sns.barplot(y=publisher, x = publisher.index, palette = 'Blues')\n",
    "plt.title(\"Publishers\",fontsize = 25)\n",
    "plt.xlabel(\"Number of occurences\", fontsize = 20)\n",
    "plt.ylabel(\"Publishers\", fontsize = 20)\n",
    "plt.xticks(rotation = 75, fontsize  =13)\n",
    "plt.show()"
   ]
  },
  {
   "cell_type": "markdown",
   "metadata": {},
   "source": [
    "## Recommending Books based on Publishers"
   ]
  },
  {
   "cell_type": "code",
   "execution_count": 66,
   "metadata": {},
   "outputs": [],
   "source": [
    "# recommending books with highest rating based on publishers\n",
    "def recommend_books_on_publishers(x):\n",
    "    a = df[df['publisher']==x][['title','average_rating']]\n",
    "    a = a.sort_values(by = 'average_rating', ascending=False)\n",
    "    return a.head(10)"
   ]
  },
  {
   "cell_type": "code",
   "execution_count": 67,
   "metadata": {},
   "outputs": [
    {
     "data": {
      "text/html": [
       "<div>\n",
       "<style scoped>\n",
       "    .dataframe tbody tr th:only-of-type {\n",
       "        vertical-align: middle;\n",
       "    }\n",
       "\n",
       "    .dataframe tbody tr th {\n",
       "        vertical-align: top;\n",
       "    }\n",
       "\n",
       "    .dataframe thead th {\n",
       "        text-align: right;\n",
       "    }\n",
       "</style>\n",
       "<table border=\"1\" class=\"dataframe\">\n",
       "  <thead>\n",
       "    <tr style=\"text-align: right;\">\n",
       "      <th></th>\n",
       "      <th>title</th>\n",
       "      <th>average_rating</th>\n",
       "    </tr>\n",
       "  </thead>\n",
       "  <tbody>\n",
       "    <tr>\n",
       "      <th>6294</th>\n",
       "      <td>The Absolute Sandman  Volume One</td>\n",
       "      <td>4.65</td>\n",
       "    </tr>\n",
       "    <tr>\n",
       "      <th>6691</th>\n",
       "      <td>Season of Mists (The Sandman  #4)</td>\n",
       "      <td>4.54</td>\n",
       "    </tr>\n",
       "    <tr>\n",
       "      <th>6694</th>\n",
       "      <td>The Wake (The Sandman  #10)</td>\n",
       "      <td>4.52</td>\n",
       "    </tr>\n",
       "    <tr>\n",
       "      <th>5980</th>\n",
       "      <td>Transmetropolitan  Vol. 10: One More Time</td>\n",
       "      <td>4.51</td>\n",
       "    </tr>\n",
       "    <tr>\n",
       "      <th>6693</th>\n",
       "      <td>World's End (The Sandman  #8)</td>\n",
       "      <td>4.47</td>\n",
       "    </tr>\n",
       "    <tr>\n",
       "      <th>5979</th>\n",
       "      <td>Transmetropolitan  Vol. 8: Dirge</td>\n",
       "      <td>4.47</td>\n",
       "    </tr>\n",
       "    <tr>\n",
       "      <th>5981</th>\n",
       "      <td>Transmetropolitan  Vol. 9: The Cure</td>\n",
       "      <td>4.44</td>\n",
       "    </tr>\n",
       "    <tr>\n",
       "      <th>6689</th>\n",
       "      <td>The Doll's House (The Sandman  #2)</td>\n",
       "      <td>4.44</td>\n",
       "    </tr>\n",
       "    <tr>\n",
       "      <th>6692</th>\n",
       "      <td>A Game of You (The Sandman  #5)</td>\n",
       "      <td>4.43</td>\n",
       "    </tr>\n",
       "    <tr>\n",
       "      <th>5977</th>\n",
       "      <td>Transmetropolitan  Vol. 5: Lonely City</td>\n",
       "      <td>4.41</td>\n",
       "    </tr>\n",
       "  </tbody>\n",
       "</table>\n",
       "</div>"
      ],
      "text/plain": [
       "                                          title  average_rating\n",
       "6294           The Absolute Sandman  Volume One            4.65\n",
       "6691          Season of Mists (The Sandman  #4)            4.54\n",
       "6694                The Wake (The Sandman  #10)            4.52\n",
       "5980  Transmetropolitan  Vol. 10: One More Time            4.51\n",
       "6693              World's End (The Sandman  #8)            4.47\n",
       "5979           Transmetropolitan  Vol. 8: Dirge            4.47\n",
       "5981        Transmetropolitan  Vol. 9: The Cure            4.44\n",
       "6689         The Doll's House (The Sandman  #2)            4.44\n",
       "6692            A Game of You (The Sandman  #5)            4.43\n",
       "5977     Transmetropolitan  Vol. 5: Lonely City            4.41"
      ]
     },
     "execution_count": 67,
     "metadata": {},
     "output_type": "execute_result"
    }
   ],
   "source": [
    "recommend_books_on_publishers('Vertigo')"
   ]
  },
  {
   "cell_type": "code",
   "execution_count": 68,
   "metadata": {},
   "outputs": [
    {
     "data": {
      "application/vnd.jupyter.widget-view+json": {
       "model_id": "12830f172d284687ac7e7742a2e3ca93",
       "version_major": 2,
       "version_minor": 0
      },
      "text/plain": [
       "interactive(children=(Dropdown(description='publisher_name', options=('Vintage', 'Penguin Books', 'Penguin Cla…"
      ]
     },
     "metadata": {},
     "output_type": "display_data"
    }
   ],
   "source": [
    "# interactive function for recommending books based on publishers\n",
    "@interact\n",
    "def recommend_books_on_publishers(publisher_name = list(df['publisher'].value_counts().index)):\n",
    "    a = df[df['publisher']==publisher_name][['title','average_rating']]\n",
    "    a = a.sort_values(by = 'average_rating', ascending=False)\n",
    "    return a.head(10)\n",
    "\n",
    "# The interact function automatically creates user interface (UI) controls for exploring code and data interactively.\n",
    "# **https://panel.holoviz.org/user_guide/Interact.html"
   ]
  },
  {
   "cell_type": "markdown",
   "metadata": {},
   "source": [
    "## Recommending Books based on Authors"
   ]
  },
  {
   "cell_type": "code",
   "execution_count": 69,
   "metadata": {},
   "outputs": [
    {
     "data": {
      "application/vnd.jupyter.widget-view+json": {
       "model_id": "408cfc44ae1d43f3b17b5e1f4d097c2b",
       "version_major": 2,
       "version_minor": 0
      },
      "text/plain": [
       "interactive(children=(Dropdown(description='author_name', options=('Stephen King', 'P.G. Wodehouse', 'Rumiko T…"
      ]
     },
     "metadata": {},
     "output_type": "display_data"
    }
   ],
   "source": [
    "# recommending books based on authors\n",
    "@interact\n",
    "def recommend_books_on_authors(author_name = list(df['authors'].value_counts().index)):\n",
    "    a = df[df['authors']==author_name][['title','average_rating']]\n",
    "    a = a.sort_values(by = 'average_rating', ascending=False)\n",
    "    return a.head(10)"
   ]
  },
  {
   "cell_type": "markdown",
   "metadata": {},
   "source": [
    "There are certain books published by different authors.\n",
    "So let's check ratings_count for the same book but different publishers."
   ]
  },
  {
   "cell_type": "code",
   "execution_count": 71,
   "metadata": {},
   "outputs": [
    {
     "data": {
      "application/vnd.jupyter.widget-view+json": {
       "model_id": "3c4226a408094f559dbd31f9dfee94dd",
       "version_major": 2,
       "version_minor": 0
      },
      "text/plain": [
       "interactive(children=(Dropdown(description='x', options=('The Brothers Karamazov', 'The Iliad', 'The Odyssey',…"
      ]
     },
     "metadata": {},
     "output_type": "display_data"
    }
   ],
   "source": [
    "@interact\n",
    "def books(x = list(df['title'].value_counts().index)):\n",
    "    a = df[df['title']==x][['title','publisher','ratings_count']]\n",
    "    a = a.sort_values(by = 'ratings_count', ascending = False)\n",
    "    return a"
   ]
  },
  {
   "cell_type": "code",
   "execution_count": 72,
   "metadata": {},
   "outputs": [
    {
     "data": {
      "text/html": [
       "<div>\n",
       "<style scoped>\n",
       "    .dataframe tbody tr th:only-of-type {\n",
       "        vertical-align: middle;\n",
       "    }\n",
       "\n",
       "    .dataframe tbody tr th {\n",
       "        vertical-align: top;\n",
       "    }\n",
       "\n",
       "    .dataframe thead th {\n",
       "        text-align: right;\n",
       "    }\n",
       "</style>\n",
       "<table border=\"1\" class=\"dataframe\">\n",
       "  <thead>\n",
       "    <tr style=\"text-align: right;\">\n",
       "      <th></th>\n",
       "      <th>title</th>\n",
       "      <th>authors</th>\n",
       "      <th>ratings_count</th>\n",
       "    </tr>\n",
       "  </thead>\n",
       "  <tbody>\n",
       "    <tr>\n",
       "      <th>10336</th>\n",
       "      <td>Twilight (Twilight  #1)</td>\n",
       "      <td>Stephenie Meyer</td>\n",
       "      <td>4597666</td>\n",
       "    </tr>\n",
       "  </tbody>\n",
       "</table>\n",
       "</div>"
      ],
      "text/plain": [
       "                         title          authors  ratings_count\n",
       "10336  Twilight (Twilight  #1)  Stephenie Meyer        4597666"
      ]
     },
     "execution_count": 72,
     "metadata": {},
     "output_type": "execute_result"
    }
   ],
   "source": [
    "# Let's check the book with maximum ratings_count\n",
    "df[df['ratings_count']==df['ratings_count'].max()][['title','authors','ratings_count']]"
   ]
  },
  {
   "cell_type": "code",
   "execution_count": 73,
   "metadata": {},
   "outputs": [
    {
     "data": {
      "text/html": [
       "<div>\n",
       "<style scoped>\n",
       "    .dataframe tbody tr th:only-of-type {\n",
       "        vertical-align: middle;\n",
       "    }\n",
       "\n",
       "    .dataframe tbody tr th {\n",
       "        vertical-align: top;\n",
       "    }\n",
       "\n",
       "    .dataframe thead th {\n",
       "        text-align: right;\n",
       "    }\n",
       "</style>\n",
       "<table border=\"1\" class=\"dataframe\">\n",
       "  <thead>\n",
       "    <tr style=\"text-align: right;\">\n",
       "      <th></th>\n",
       "      <th>title</th>\n",
       "      <th>authors</th>\n",
       "      <th>average_rating</th>\n",
       "      <th>language_code</th>\n",
       "      <th>num_pages</th>\n",
       "      <th>ratings_count</th>\n",
       "      <th>text_reviews_count</th>\n",
       "      <th>publication_date</th>\n",
       "      <th>publisher</th>\n",
       "      <th>year</th>\n",
       "    </tr>\n",
       "  </thead>\n",
       "  <tbody>\n",
       "    <tr>\n",
       "      <th>0</th>\n",
       "      <td>Twilight (Twilight  #1)</td>\n",
       "      <td>Stephenie Meyer</td>\n",
       "      <td>3.59</td>\n",
       "      <td>eng</td>\n",
       "      <td>501</td>\n",
       "      <td>4597666</td>\n",
       "      <td>94265</td>\n",
       "      <td>9/6/2006</td>\n",
       "      <td>Little  Brown and Company</td>\n",
       "      <td>2006</td>\n",
       "    </tr>\n",
       "    <tr>\n",
       "      <th>1</th>\n",
       "      <td>The Hobbit  or There and Back Again</td>\n",
       "      <td>J.R.R. Tolkien</td>\n",
       "      <td>4.27</td>\n",
       "      <td>eng</td>\n",
       "      <td>366</td>\n",
       "      <td>2530894</td>\n",
       "      <td>32871</td>\n",
       "      <td>8/15/2002</td>\n",
       "      <td>Houghton Mifflin</td>\n",
       "      <td>2002</td>\n",
       "    </tr>\n",
       "  </tbody>\n",
       "</table>\n",
       "</div>"
      ],
      "text/plain": [
       "                                 title          authors  average_rating  \\\n",
       "0              Twilight (Twilight  #1)  Stephenie Meyer            3.59   \n",
       "1  The Hobbit  or There and Back Again   J.R.R. Tolkien            4.27   \n",
       "\n",
       "  language_code  num_pages  ratings_count  text_reviews_count  \\\n",
       "0           eng        501        4597666               94265   \n",
       "1           eng        366        2530894               32871   \n",
       "\n",
       "  publication_date                  publisher  year  \n",
       "0         9/6/2006  Little  Brown and Company  2006  \n",
       "1        8/15/2002           Houghton Mifflin  2002  "
      ]
     },
     "execution_count": 73,
     "metadata": {},
     "output_type": "execute_result"
    }
   ],
   "source": [
    "df.sort_values(by='ratings_count', ascending=False, ignore_index=True)[:2]\n",
    "#[['title','authors','ratings_count']]"
   ]
  },
  {
   "cell_type": "code",
   "execution_count": 74,
   "metadata": {},
   "outputs": [
    {
     "data": {
      "text/html": [
       "<style  type=\"text/css\" >\n",
       "#T_ffc5ae63_0765_11ec_935e_830b57a78162row0_col2{\n",
       "            background-color:  #800026;\n",
       "            color:  #f1f1f1;\n",
       "        }#T_ffc5ae63_0765_11ec_935e_830b57a78162row1_col2{\n",
       "            background-color:  #ffe590;\n",
       "            color:  #000000;\n",
       "        }#T_ffc5ae63_0765_11ec_935e_830b57a78162row2_col2{\n",
       "            background-color:  #ffea9b;\n",
       "            color:  #000000;\n",
       "        }#T_ffc5ae63_0765_11ec_935e_830b57a78162row3_col2{\n",
       "            background-color:  #ffec9f;\n",
       "            color:  #000000;\n",
       "        }#T_ffc5ae63_0765_11ec_935e_830b57a78162row4_col2{\n",
       "            background-color:  #fff1ab;\n",
       "            color:  #000000;\n",
       "        }#T_ffc5ae63_0765_11ec_935e_830b57a78162row5_col2{\n",
       "            background-color:  #fff4b0;\n",
       "            color:  #000000;\n",
       "        }#T_ffc5ae63_0765_11ec_935e_830b57a78162row6_col2{\n",
       "            background-color:  #fffcc5;\n",
       "            color:  #000000;\n",
       "        }#T_ffc5ae63_0765_11ec_935e_830b57a78162row7_col2{\n",
       "            background-color:  #fffdc8;\n",
       "            color:  #000000;\n",
       "        }#T_ffc5ae63_0765_11ec_935e_830b57a78162row8_col2{\n",
       "            background-color:  #fffecb;\n",
       "            color:  #000000;\n",
       "        }#T_ffc5ae63_0765_11ec_935e_830b57a78162row9_col2{\n",
       "            background-color:  #ffffcc;\n",
       "            color:  #000000;\n",
       "        }</style><table id=\"T_ffc5ae63_0765_11ec_935e_830b57a78162\" ><thead>    <tr>        <th class=\"blank level0\" ></th>        <th class=\"col_heading level0 col0\" >title</th>        <th class=\"col_heading level0 col1\" >authors</th>        <th class=\"col_heading level0 col2\" >ratings_count</th>    </tr></thead><tbody>\n",
       "                <tr>\n",
       "                        <th id=\"T_ffc5ae63_0765_11ec_935e_830b57a78162level0_row0\" class=\"row_heading level0 row0\" >0</th>\n",
       "                        <td id=\"T_ffc5ae63_0765_11ec_935e_830b57a78162row0_col0\" class=\"data row0 col0\" >Twilight (Twilight  #1)</td>\n",
       "                        <td id=\"T_ffc5ae63_0765_11ec_935e_830b57a78162row0_col1\" class=\"data row0 col1\" >Stephenie Meyer</td>\n",
       "                        <td id=\"T_ffc5ae63_0765_11ec_935e_830b57a78162row0_col2\" class=\"data row0 col2\" >4597666</td>\n",
       "            </tr>\n",
       "            <tr>\n",
       "                        <th id=\"T_ffc5ae63_0765_11ec_935e_830b57a78162level0_row1\" class=\"row_heading level0 row1\" >1</th>\n",
       "                        <td id=\"T_ffc5ae63_0765_11ec_935e_830b57a78162row1_col0\" class=\"data row1 col0\" >The Hobbit  or There and Back Again</td>\n",
       "                        <td id=\"T_ffc5ae63_0765_11ec_935e_830b57a78162row1_col1\" class=\"data row1 col1\" >J.R.R. Tolkien</td>\n",
       "                        <td id=\"T_ffc5ae63_0765_11ec_935e_830b57a78162row1_col2\" class=\"data row1 col2\" >2530894</td>\n",
       "            </tr>\n",
       "            <tr>\n",
       "                        <th id=\"T_ffc5ae63_0765_11ec_935e_830b57a78162level0_row2\" class=\"row_heading level0 row2\" >2</th>\n",
       "                        <td id=\"T_ffc5ae63_0765_11ec_935e_830b57a78162row2_col0\" class=\"data row2 col0\" >The Catcher in the Rye</td>\n",
       "                        <td id=\"T_ffc5ae63_0765_11ec_935e_830b57a78162row2_col1\" class=\"data row2 col1\" >J.D. Salinger</td>\n",
       "                        <td id=\"T_ffc5ae63_0765_11ec_935e_830b57a78162row2_col2\" class=\"data row2 col2\" >2457092</td>\n",
       "            </tr>\n",
       "            <tr>\n",
       "                        <th id=\"T_ffc5ae63_0765_11ec_935e_830b57a78162level0_row3\" class=\"row_heading level0 row3\" >3</th>\n",
       "                        <td id=\"T_ffc5ae63_0765_11ec_935e_830b57a78162row3_col0\" class=\"data row3 col0\" >Angels & Demons (Robert Langdon  #1)</td>\n",
       "                        <td id=\"T_ffc5ae63_0765_11ec_935e_830b57a78162row3_col1\" class=\"data row3 col1\" >Dan Brown</td>\n",
       "                        <td id=\"T_ffc5ae63_0765_11ec_935e_830b57a78162row3_col2\" class=\"data row3 col2\" >2418736</td>\n",
       "            </tr>\n",
       "            <tr>\n",
       "                        <th id=\"T_ffc5ae63_0765_11ec_935e_830b57a78162level0_row4\" class=\"row_heading level0 row4\" >4</th>\n",
       "                        <td id=\"T_ffc5ae63_0765_11ec_935e_830b57a78162row4_col0\" class=\"data row4 col0\" >Harry Potter and the Prisoner of Azkaban (Harry Potter  #3)</td>\n",
       "                        <td id=\"T_ffc5ae63_0765_11ec_935e_830b57a78162row4_col1\" class=\"data row4 col1\" >J.K. Rowling/Mary GrandPré</td>\n",
       "                        <td id=\"T_ffc5ae63_0765_11ec_935e_830b57a78162row4_col2\" class=\"data row4 col2\" >2339585</td>\n",
       "            </tr>\n",
       "            <tr>\n",
       "                        <th id=\"T_ffc5ae63_0765_11ec_935e_830b57a78162level0_row5\" class=\"row_heading level0 row5\" >5</th>\n",
       "                        <td id=\"T_ffc5ae63_0765_11ec_935e_830b57a78162row5_col0\" class=\"data row5 col0\" >Harry Potter and the Chamber of Secrets (Harry Potter  #2)</td>\n",
       "                        <td id=\"T_ffc5ae63_0765_11ec_935e_830b57a78162row5_col1\" class=\"data row5 col1\" >J.K. Rowling/Mary GrandPré</td>\n",
       "                        <td id=\"T_ffc5ae63_0765_11ec_935e_830b57a78162row5_col2\" class=\"data row5 col2\" >2293963</td>\n",
       "            </tr>\n",
       "            <tr>\n",
       "                        <th id=\"T_ffc5ae63_0765_11ec_935e_830b57a78162level0_row6\" class=\"row_heading level0 row6\" >6</th>\n",
       "                        <td id=\"T_ffc5ae63_0765_11ec_935e_830b57a78162row6_col0\" class=\"data row6 col0\" >Harry Potter and the Order of the Phoenix (Harry Potter  #5)</td>\n",
       "                        <td id=\"T_ffc5ae63_0765_11ec_935e_830b57a78162row6_col1\" class=\"data row6 col1\" >J.K. Rowling/Mary GrandPré</td>\n",
       "                        <td id=\"T_ffc5ae63_0765_11ec_935e_830b57a78162row6_col2\" class=\"data row6 col2\" >2153167</td>\n",
       "            </tr>\n",
       "            <tr>\n",
       "                        <th id=\"T_ffc5ae63_0765_11ec_935e_830b57a78162level0_row7\" class=\"row_heading level0 row7\" >7</th>\n",
       "                        <td id=\"T_ffc5ae63_0765_11ec_935e_830b57a78162row7_col0\" class=\"data row7 col0\" >The Fellowship of the Ring (The Lord of the Rings  #1)</td>\n",
       "                        <td id=\"T_ffc5ae63_0765_11ec_935e_830b57a78162row7_col1\" class=\"data row7 col1\" >J.R.R. Tolkien</td>\n",
       "                        <td id=\"T_ffc5ae63_0765_11ec_935e_830b57a78162row7_col2\" class=\"data row7 col2\" >2128944</td>\n",
       "            </tr>\n",
       "            <tr>\n",
       "                        <th id=\"T_ffc5ae63_0765_11ec_935e_830b57a78162level0_row8\" class=\"row_heading level0 row8\" >8</th>\n",
       "                        <td id=\"T_ffc5ae63_0765_11ec_935e_830b57a78162row8_col0\" class=\"data row8 col0\" >Animal Farm</td>\n",
       "                        <td id=\"T_ffc5ae63_0765_11ec_935e_830b57a78162row8_col1\" class=\"data row8 col1\" >George Orwell/Boris Grabnar/Peter Škerl</td>\n",
       "                        <td id=\"T_ffc5ae63_0765_11ec_935e_830b57a78162row8_col2\" class=\"data row8 col2\" >2111750</td>\n",
       "            </tr>\n",
       "            <tr>\n",
       "                        <th id=\"T_ffc5ae63_0765_11ec_935e_830b57a78162level0_row9\" class=\"row_heading level0 row9\" >9</th>\n",
       "                        <td id=\"T_ffc5ae63_0765_11ec_935e_830b57a78162row9_col0\" class=\"data row9 col0\" >Harry Potter and the Half-Blood Prince (Harry Potter  #6)</td>\n",
       "                        <td id=\"T_ffc5ae63_0765_11ec_935e_830b57a78162row9_col1\" class=\"data row9 col1\" >J.K. Rowling/Mary GrandPré</td>\n",
       "                        <td id=\"T_ffc5ae63_0765_11ec_935e_830b57a78162row9_col2\" class=\"data row9 col2\" >2095690</td>\n",
       "            </tr>\n",
       "    </tbody></table>"
      ],
      "text/plain": [
       "<pandas.io.formats.style.Styler at 0x2aaafa9e4f0>"
      ]
     },
     "execution_count": 74,
     "metadata": {},
     "output_type": "execute_result"
    }
   ],
   "source": [
    "# Now, let's check the top 10 books with highest ratings_count\n",
    "df[['title','authors','ratings_count']].sort_values(by = 'ratings_count',ascending = False, ignore_index=True)[:10].style.background_gradient(cmap = 'YlOrRd')"
   ]
  },
  {
   "cell_type": "markdown",
   "metadata": {},
   "source": [
    "## Recommending Books on Languages"
   ]
  },
  {
   "cell_type": "code",
   "execution_count": 75,
   "metadata": {},
   "outputs": [
    {
     "data": {
      "application/vnd.jupyter.widget-view+json": {
       "model_id": "e2576950cf9a4be1b403711147b83985",
       "version_major": 2,
       "version_minor": 0
      },
      "text/plain": [
       "interactive(children=(Dropdown(description='language', options=('eng', 'en-US', 'spa', 'en-GB', 'fre', 'ger', …"
      ]
     },
     "metadata": {},
     "output_type": "display_data"
    }
   ],
   "source": [
    "# Let's recommend books based on languages\n",
    "@interact\n",
    "def recommend_books_on_languages(language = list(df['language_code'].value_counts().index)):\n",
    "    a = df[df['language_code']==language][['title','average_rating']]\n",
    "    a = a.sort_values(by = 'average_rating', ascending=False)\n",
    "    return a.head(15)"
   ]
  },
  {
   "cell_type": "code",
   "execution_count": 76,
   "metadata": {},
   "outputs": [],
   "source": [
    "# converting average rating column into categorical column\n",
    "def num_into_obj(x):\n",
    "    if x==0:\n",
    "        return 'No rating given'\n",
    "    elif x>=1 and x<=2:\n",
    "        return 'Low rating'\n",
    "    elif x==3:\n",
    "        return 'Medium rating'\n",
    "    else:\n",
    "        return 'High rating'\n",
    "    \n",
    "df['rating_obj'] = df['average_rating'].apply(num_into_obj)"
   ]
  },
  {
   "cell_type": "code",
   "execution_count": 77,
   "metadata": {},
   "outputs": [
    {
     "data": {
      "text/plain": [
       "High rating        11070\n",
       "No rating given       25\n",
       "Medium rating         19\n",
       "Low rating             9\n",
       "Name: rating_obj, dtype: int64"
      ]
     },
     "execution_count": 77,
     "metadata": {},
     "output_type": "execute_result"
    }
   ],
   "source": [
    "df['rating_obj'].value_counts()"
   ]
  },
  {
   "cell_type": "code",
   "execution_count": 78,
   "metadata": {},
   "outputs": [
    {
     "data": {
      "text/html": [
       "<div>\n",
       "<style scoped>\n",
       "    .dataframe tbody tr th:only-of-type {\n",
       "        vertical-align: middle;\n",
       "    }\n",
       "\n",
       "    .dataframe tbody tr th {\n",
       "        vertical-align: top;\n",
       "    }\n",
       "\n",
       "    .dataframe thead th {\n",
       "        text-align: right;\n",
       "    }\n",
       "</style>\n",
       "<table border=\"1\" class=\"dataframe\">\n",
       "  <thead>\n",
       "    <tr style=\"text-align: right;\">\n",
       "      <th></th>\n",
       "      <th>High rating</th>\n",
       "      <th>Low rating</th>\n",
       "      <th>Medium rating</th>\n",
       "      <th>No rating given</th>\n",
       "    </tr>\n",
       "  </thead>\n",
       "  <tbody>\n",
       "    <tr>\n",
       "      <th>0</th>\n",
       "      <td>1</td>\n",
       "      <td>0</td>\n",
       "      <td>0</td>\n",
       "      <td>0</td>\n",
       "    </tr>\n",
       "    <tr>\n",
       "      <th>1</th>\n",
       "      <td>1</td>\n",
       "      <td>0</td>\n",
       "      <td>0</td>\n",
       "      <td>0</td>\n",
       "    </tr>\n",
       "    <tr>\n",
       "      <th>2</th>\n",
       "      <td>1</td>\n",
       "      <td>0</td>\n",
       "      <td>0</td>\n",
       "      <td>0</td>\n",
       "    </tr>\n",
       "    <tr>\n",
       "      <th>3</th>\n",
       "      <td>1</td>\n",
       "      <td>0</td>\n",
       "      <td>0</td>\n",
       "      <td>0</td>\n",
       "    </tr>\n",
       "    <tr>\n",
       "      <th>4</th>\n",
       "      <td>1</td>\n",
       "      <td>0</td>\n",
       "      <td>0</td>\n",
       "      <td>0</td>\n",
       "    </tr>\n",
       "  </tbody>\n",
       "</table>\n",
       "</div>"
      ],
      "text/plain": [
       "   High rating  Low rating  Medium rating  No rating given\n",
       "0            1           0              0                0\n",
       "1            1           0              0                0\n",
       "2            1           0              0                0\n",
       "3            1           0              0                0\n",
       "4            1           0              0                0"
      ]
     },
     "execution_count": 78,
     "metadata": {},
     "output_type": "execute_result"
    }
   ],
   "source": [
    "# Let's encode the categorical column\n",
    "rating_df = pd.get_dummies(df['rating_obj'])\n",
    "rating_df.head()"
   ]
  },
  {
   "cell_type": "code",
   "execution_count": 79,
   "metadata": {},
   "outputs": [
    {
     "data": {
      "text/html": [
       "<div>\n",
       "<style scoped>\n",
       "    .dataframe tbody tr th:only-of-type {\n",
       "        vertical-align: middle;\n",
       "    }\n",
       "\n",
       "    .dataframe tbody tr th {\n",
       "        vertical-align: top;\n",
       "    }\n",
       "\n",
       "    .dataframe thead th {\n",
       "        text-align: right;\n",
       "    }\n",
       "</style>\n",
       "<table border=\"1\" class=\"dataframe\">\n",
       "  <thead>\n",
       "    <tr style=\"text-align: right;\">\n",
       "      <th></th>\n",
       "      <th>ale</th>\n",
       "      <th>ara</th>\n",
       "      <th>en-CA</th>\n",
       "      <th>en-GB</th>\n",
       "      <th>en-US</th>\n",
       "      <th>eng</th>\n",
       "      <th>enm</th>\n",
       "      <th>fre</th>\n",
       "      <th>ger</th>\n",
       "      <th>gla</th>\n",
       "      <th>...</th>\n",
       "      <th>nl</th>\n",
       "      <th>nor</th>\n",
       "      <th>por</th>\n",
       "      <th>rus</th>\n",
       "      <th>spa</th>\n",
       "      <th>srp</th>\n",
       "      <th>swe</th>\n",
       "      <th>tur</th>\n",
       "      <th>wel</th>\n",
       "      <th>zho</th>\n",
       "    </tr>\n",
       "  </thead>\n",
       "  <tbody>\n",
       "    <tr>\n",
       "      <th>0</th>\n",
       "      <td>0</td>\n",
       "      <td>0</td>\n",
       "      <td>0</td>\n",
       "      <td>0</td>\n",
       "      <td>0</td>\n",
       "      <td>1</td>\n",
       "      <td>0</td>\n",
       "      <td>0</td>\n",
       "      <td>0</td>\n",
       "      <td>0</td>\n",
       "      <td>...</td>\n",
       "      <td>0</td>\n",
       "      <td>0</td>\n",
       "      <td>0</td>\n",
       "      <td>0</td>\n",
       "      <td>0</td>\n",
       "      <td>0</td>\n",
       "      <td>0</td>\n",
       "      <td>0</td>\n",
       "      <td>0</td>\n",
       "      <td>0</td>\n",
       "    </tr>\n",
       "    <tr>\n",
       "      <th>1</th>\n",
       "      <td>0</td>\n",
       "      <td>0</td>\n",
       "      <td>0</td>\n",
       "      <td>0</td>\n",
       "      <td>0</td>\n",
       "      <td>1</td>\n",
       "      <td>0</td>\n",
       "      <td>0</td>\n",
       "      <td>0</td>\n",
       "      <td>0</td>\n",
       "      <td>...</td>\n",
       "      <td>0</td>\n",
       "      <td>0</td>\n",
       "      <td>0</td>\n",
       "      <td>0</td>\n",
       "      <td>0</td>\n",
       "      <td>0</td>\n",
       "      <td>0</td>\n",
       "      <td>0</td>\n",
       "      <td>0</td>\n",
       "      <td>0</td>\n",
       "    </tr>\n",
       "    <tr>\n",
       "      <th>2</th>\n",
       "      <td>0</td>\n",
       "      <td>0</td>\n",
       "      <td>0</td>\n",
       "      <td>0</td>\n",
       "      <td>0</td>\n",
       "      <td>1</td>\n",
       "      <td>0</td>\n",
       "      <td>0</td>\n",
       "      <td>0</td>\n",
       "      <td>0</td>\n",
       "      <td>...</td>\n",
       "      <td>0</td>\n",
       "      <td>0</td>\n",
       "      <td>0</td>\n",
       "      <td>0</td>\n",
       "      <td>0</td>\n",
       "      <td>0</td>\n",
       "      <td>0</td>\n",
       "      <td>0</td>\n",
       "      <td>0</td>\n",
       "      <td>0</td>\n",
       "    </tr>\n",
       "    <tr>\n",
       "      <th>3</th>\n",
       "      <td>0</td>\n",
       "      <td>0</td>\n",
       "      <td>0</td>\n",
       "      <td>0</td>\n",
       "      <td>0</td>\n",
       "      <td>1</td>\n",
       "      <td>0</td>\n",
       "      <td>0</td>\n",
       "      <td>0</td>\n",
       "      <td>0</td>\n",
       "      <td>...</td>\n",
       "      <td>0</td>\n",
       "      <td>0</td>\n",
       "      <td>0</td>\n",
       "      <td>0</td>\n",
       "      <td>0</td>\n",
       "      <td>0</td>\n",
       "      <td>0</td>\n",
       "      <td>0</td>\n",
       "      <td>0</td>\n",
       "      <td>0</td>\n",
       "    </tr>\n",
       "    <tr>\n",
       "      <th>4</th>\n",
       "      <td>0</td>\n",
       "      <td>0</td>\n",
       "      <td>0</td>\n",
       "      <td>0</td>\n",
       "      <td>0</td>\n",
       "      <td>1</td>\n",
       "      <td>0</td>\n",
       "      <td>0</td>\n",
       "      <td>0</td>\n",
       "      <td>0</td>\n",
       "      <td>...</td>\n",
       "      <td>0</td>\n",
       "      <td>0</td>\n",
       "      <td>0</td>\n",
       "      <td>0</td>\n",
       "      <td>0</td>\n",
       "      <td>0</td>\n",
       "      <td>0</td>\n",
       "      <td>0</td>\n",
       "      <td>0</td>\n",
       "      <td>0</td>\n",
       "    </tr>\n",
       "  </tbody>\n",
       "</table>\n",
       "<p>5 rows × 27 columns</p>\n",
       "</div>"
      ],
      "text/plain": [
       "   ale  ara  en-CA  en-GB  en-US  eng  enm  fre  ger  gla  ...  nl  nor  por  \\\n",
       "0    0    0      0      0      0    1    0    0    0    0  ...   0    0    0   \n",
       "1    0    0      0      0      0    1    0    0    0    0  ...   0    0    0   \n",
       "2    0    0      0      0      0    1    0    0    0    0  ...   0    0    0   \n",
       "3    0    0      0      0      0    1    0    0    0    0  ...   0    0    0   \n",
       "4    0    0      0      0      0    1    0    0    0    0  ...   0    0    0   \n",
       "\n",
       "   rus  spa  srp  swe  tur  wel  zho  \n",
       "0    0    0    0    0    0    0    0  \n",
       "1    0    0    0    0    0    0    0  \n",
       "2    0    0    0    0    0    0    0  \n",
       "3    0    0    0    0    0    0    0  \n",
       "4    0    0    0    0    0    0    0  \n",
       "\n",
       "[5 rows x 27 columns]"
      ]
     },
     "execution_count": 79,
     "metadata": {},
     "output_type": "execute_result"
    }
   ],
   "source": [
    "# Let's encode the language code column as well\n",
    "language_df = pd.get_dummies(df['language_code'])\n",
    "language_df.head()"
   ]
  },
  {
   "cell_type": "code",
   "execution_count": 82,
   "metadata": {},
   "outputs": [
    {
     "data": {
      "text/html": [
       "<div>\n",
       "<style scoped>\n",
       "    .dataframe tbody tr th:only-of-type {\n",
       "        vertical-align: middle;\n",
       "    }\n",
       "\n",
       "    .dataframe tbody tr th {\n",
       "        vertical-align: top;\n",
       "    }\n",
       "\n",
       "    .dataframe thead th {\n",
       "        text-align: right;\n",
       "    }\n",
       "</style>\n",
       "<table border=\"1\" class=\"dataframe\">\n",
       "  <thead>\n",
       "    <tr style=\"text-align: right;\">\n",
       "      <th></th>\n",
       "      <th>High rating</th>\n",
       "      <th>Low rating</th>\n",
       "      <th>Medium rating</th>\n",
       "      <th>No rating given</th>\n",
       "      <th>ale</th>\n",
       "      <th>ara</th>\n",
       "      <th>en-CA</th>\n",
       "      <th>en-GB</th>\n",
       "      <th>en-US</th>\n",
       "      <th>eng</th>\n",
       "      <th>...</th>\n",
       "      <th>por</th>\n",
       "      <th>rus</th>\n",
       "      <th>spa</th>\n",
       "      <th>srp</th>\n",
       "      <th>swe</th>\n",
       "      <th>tur</th>\n",
       "      <th>wel</th>\n",
       "      <th>zho</th>\n",
       "      <th>average_rating</th>\n",
       "      <th>ratings_count</th>\n",
       "    </tr>\n",
       "    <tr>\n",
       "      <th>title</th>\n",
       "      <th></th>\n",
       "      <th></th>\n",
       "      <th></th>\n",
       "      <th></th>\n",
       "      <th></th>\n",
       "      <th></th>\n",
       "      <th></th>\n",
       "      <th></th>\n",
       "      <th></th>\n",
       "      <th></th>\n",
       "      <th></th>\n",
       "      <th></th>\n",
       "      <th></th>\n",
       "      <th></th>\n",
       "      <th></th>\n",
       "      <th></th>\n",
       "      <th></th>\n",
       "      <th></th>\n",
       "      <th></th>\n",
       "      <th></th>\n",
       "      <th></th>\n",
       "    </tr>\n",
       "  </thead>\n",
       "  <tbody>\n",
       "    <tr>\n",
       "      <th>Harry Potter and the Half-Blood Prince (Harry Potter  #6)</th>\n",
       "      <td>1</td>\n",
       "      <td>0</td>\n",
       "      <td>0</td>\n",
       "      <td>0</td>\n",
       "      <td>0</td>\n",
       "      <td>0</td>\n",
       "      <td>0</td>\n",
       "      <td>0</td>\n",
       "      <td>0</td>\n",
       "      <td>1</td>\n",
       "      <td>...</td>\n",
       "      <td>0</td>\n",
       "      <td>0</td>\n",
       "      <td>0</td>\n",
       "      <td>0</td>\n",
       "      <td>0</td>\n",
       "      <td>0</td>\n",
       "      <td>0</td>\n",
       "      <td>0</td>\n",
       "      <td>4.57</td>\n",
       "      <td>2095690</td>\n",
       "    </tr>\n",
       "    <tr>\n",
       "      <th>Harry Potter and the Order of the Phoenix (Harry Potter  #5)</th>\n",
       "      <td>1</td>\n",
       "      <td>0</td>\n",
       "      <td>0</td>\n",
       "      <td>0</td>\n",
       "      <td>0</td>\n",
       "      <td>0</td>\n",
       "      <td>0</td>\n",
       "      <td>0</td>\n",
       "      <td>0</td>\n",
       "      <td>1</td>\n",
       "      <td>...</td>\n",
       "      <td>0</td>\n",
       "      <td>0</td>\n",
       "      <td>0</td>\n",
       "      <td>0</td>\n",
       "      <td>0</td>\n",
       "      <td>0</td>\n",
       "      <td>0</td>\n",
       "      <td>0</td>\n",
       "      <td>4.49</td>\n",
       "      <td>2153167</td>\n",
       "    </tr>\n",
       "    <tr>\n",
       "      <th>Harry Potter and the Chamber of Secrets (Harry Potter  #2)</th>\n",
       "      <td>1</td>\n",
       "      <td>0</td>\n",
       "      <td>0</td>\n",
       "      <td>0</td>\n",
       "      <td>0</td>\n",
       "      <td>0</td>\n",
       "      <td>0</td>\n",
       "      <td>0</td>\n",
       "      <td>0</td>\n",
       "      <td>1</td>\n",
       "      <td>...</td>\n",
       "      <td>0</td>\n",
       "      <td>0</td>\n",
       "      <td>0</td>\n",
       "      <td>0</td>\n",
       "      <td>0</td>\n",
       "      <td>0</td>\n",
       "      <td>0</td>\n",
       "      <td>0</td>\n",
       "      <td>4.42</td>\n",
       "      <td>6333</td>\n",
       "    </tr>\n",
       "    <tr>\n",
       "      <th>Harry Potter and the Prisoner of Azkaban (Harry Potter  #3)</th>\n",
       "      <td>1</td>\n",
       "      <td>0</td>\n",
       "      <td>0</td>\n",
       "      <td>0</td>\n",
       "      <td>0</td>\n",
       "      <td>0</td>\n",
       "      <td>0</td>\n",
       "      <td>0</td>\n",
       "      <td>0</td>\n",
       "      <td>1</td>\n",
       "      <td>...</td>\n",
       "      <td>0</td>\n",
       "      <td>0</td>\n",
       "      <td>0</td>\n",
       "      <td>0</td>\n",
       "      <td>0</td>\n",
       "      <td>0</td>\n",
       "      <td>0</td>\n",
       "      <td>0</td>\n",
       "      <td>4.56</td>\n",
       "      <td>2339585</td>\n",
       "    </tr>\n",
       "    <tr>\n",
       "      <th>Harry Potter Boxed Set  Books 1-5 (Harry Potter  #1-5)</th>\n",
       "      <td>1</td>\n",
       "      <td>0</td>\n",
       "      <td>0</td>\n",
       "      <td>0</td>\n",
       "      <td>0</td>\n",
       "      <td>0</td>\n",
       "      <td>0</td>\n",
       "      <td>0</td>\n",
       "      <td>0</td>\n",
       "      <td>1</td>\n",
       "      <td>...</td>\n",
       "      <td>0</td>\n",
       "      <td>0</td>\n",
       "      <td>0</td>\n",
       "      <td>0</td>\n",
       "      <td>0</td>\n",
       "      <td>0</td>\n",
       "      <td>0</td>\n",
       "      <td>0</td>\n",
       "      <td>4.78</td>\n",
       "      <td>41428</td>\n",
       "    </tr>\n",
       "  </tbody>\n",
       "</table>\n",
       "<p>5 rows × 33 columns</p>\n",
       "</div>"
      ],
      "text/plain": [
       "                                                    High rating  Low rating  \\\n",
       "title                                                                         \n",
       "Harry Potter and the Half-Blood Prince (Harry P...            1           0   \n",
       "Harry Potter and the Order of the Phoenix (Harr...            1           0   \n",
       "Harry Potter and the Chamber of Secrets (Harry ...            1           0   \n",
       "Harry Potter and the Prisoner of Azkaban (Harry...            1           0   \n",
       "Harry Potter Boxed Set  Books 1-5 (Harry Potter...            1           0   \n",
       "\n",
       "                                                    Medium rating  \\\n",
       "title                                                               \n",
       "Harry Potter and the Half-Blood Prince (Harry P...              0   \n",
       "Harry Potter and the Order of the Phoenix (Harr...              0   \n",
       "Harry Potter and the Chamber of Secrets (Harry ...              0   \n",
       "Harry Potter and the Prisoner of Azkaban (Harry...              0   \n",
       "Harry Potter Boxed Set  Books 1-5 (Harry Potter...              0   \n",
       "\n",
       "                                                    No rating given  ale  ara  \\\n",
       "title                                                                           \n",
       "Harry Potter and the Half-Blood Prince (Harry P...                0    0    0   \n",
       "Harry Potter and the Order of the Phoenix (Harr...                0    0    0   \n",
       "Harry Potter and the Chamber of Secrets (Harry ...                0    0    0   \n",
       "Harry Potter and the Prisoner of Azkaban (Harry...                0    0    0   \n",
       "Harry Potter Boxed Set  Books 1-5 (Harry Potter...                0    0    0   \n",
       "\n",
       "                                                    en-CA  en-GB  en-US  eng  \\\n",
       "title                                                                          \n",
       "Harry Potter and the Half-Blood Prince (Harry P...      0      0      0    1   \n",
       "Harry Potter and the Order of the Phoenix (Harr...      0      0      0    1   \n",
       "Harry Potter and the Chamber of Secrets (Harry ...      0      0      0    1   \n",
       "Harry Potter and the Prisoner of Azkaban (Harry...      0      0      0    1   \n",
       "Harry Potter Boxed Set  Books 1-5 (Harry Potter...      0      0      0    1   \n",
       "\n",
       "                                                    ...  por  rus  spa  srp  \\\n",
       "title                                               ...                       \n",
       "Harry Potter and the Half-Blood Prince (Harry P...  ...    0    0    0    0   \n",
       "Harry Potter and the Order of the Phoenix (Harr...  ...    0    0    0    0   \n",
       "Harry Potter and the Chamber of Secrets (Harry ...  ...    0    0    0    0   \n",
       "Harry Potter and the Prisoner of Azkaban (Harry...  ...    0    0    0    0   \n",
       "Harry Potter Boxed Set  Books 1-5 (Harry Potter...  ...    0    0    0    0   \n",
       "\n",
       "                                                    swe  tur  wel  zho  \\\n",
       "title                                                                    \n",
       "Harry Potter and the Half-Blood Prince (Harry P...    0    0    0    0   \n",
       "Harry Potter and the Order of the Phoenix (Harr...    0    0    0    0   \n",
       "Harry Potter and the Chamber of Secrets (Harry ...    0    0    0    0   \n",
       "Harry Potter and the Prisoner of Azkaban (Harry...    0    0    0    0   \n",
       "Harry Potter Boxed Set  Books 1-5 (Harry Potter...    0    0    0    0   \n",
       "\n",
       "                                                    average_rating  \\\n",
       "title                                                                \n",
       "Harry Potter and the Half-Blood Prince (Harry P...            4.57   \n",
       "Harry Potter and the Order of the Phoenix (Harr...            4.49   \n",
       "Harry Potter and the Chamber of Secrets (Harry ...            4.42   \n",
       "Harry Potter and the Prisoner of Azkaban (Harry...            4.56   \n",
       "Harry Potter Boxed Set  Books 1-5 (Harry Potter...            4.78   \n",
       "\n",
       "                                                    ratings_count  \n",
       "title                                                              \n",
       "Harry Potter and the Half-Blood Prince (Harry P...        2095690  \n",
       "Harry Potter and the Order of the Phoenix (Harr...        2153167  \n",
       "Harry Potter and the Chamber of Secrets (Harry ...           6333  \n",
       "Harry Potter and the Prisoner of Azkaban (Harry...        2339585  \n",
       "Harry Potter Boxed Set  Books 1-5 (Harry Potter...          41428  \n",
       "\n",
       "[5 rows x 33 columns]"
      ]
     },
     "execution_count": 82,
     "metadata": {},
     "output_type": "execute_result"
    }
   ],
   "source": [
    "# Let's concat both the data frames and set the title column as the index \n",
    "features = pd.concat([rating_df, language_df, df['average_rating'], df['ratings_count'],df['title']], axis=1)\n",
    "features.set_index('title', inplace=True)\n",
    "features.head()"
   ]
  },
  {
   "cell_type": "code",
   "execution_count": 83,
   "metadata": {},
   "outputs": [],
   "source": [
    "# for scaling the values of the data frame\n",
    "from sklearn.preprocessing import MinMaxScaler"
   ]
  },
  {
   "cell_type": "code",
   "execution_count": 84,
   "metadata": {},
   "outputs": [],
   "source": [
    "# scaling down the values of the data frame\n",
    "min_max_scaler = MinMaxScaler()\n",
    "features_scaled = min_max_scaler.fit_transform(features)"
   ]
  },
  {
   "cell_type": "code",
   "execution_count": 85,
   "metadata": {},
   "outputs": [],
   "source": [
    "# importing neighbours\n",
    "from sklearn import neighbors"
   ]
  },
  {
   "cell_type": "code",
   "execution_count": 87,
   "metadata": {},
   "outputs": [],
   "source": [
    "# training the model\n",
    "model = neighbors.NearestNeighbors(n_neighbors=10, algorithm='ball_tree', metric='euclidean') \n",
    "# n_neighbors will give the number of recommendations on books. for n_neighbors = 10, 10 books are recommended\n",
    "#algorithm = KDTree/ball_tree and metric = cosine/euclidean\n",
    "model.fit(features_scaled)\n",
    "dist, idlist = model.kneighbors(features_scaled)\n",
    "#print(dist) # stores the distance\n",
    "#print(idlist) # stores the respective indices"
   ]
  },
  {
   "cell_type": "code",
   "execution_count": 88,
   "metadata": {},
   "outputs": [
    {
     "data": {
      "application/vnd.jupyter.widget-view+json": {
       "model_id": "6627e3aade2644bba238f9b93efd0e82",
       "version_major": 2,
       "version_minor": 0
      },
      "text/plain": [
       "interactive(children=(Dropdown(description='book_name', options=('The Brothers Karamazov', 'The Iliad', 'The O…"
      ]
     },
     "metadata": {},
     "output_type": "display_data"
    }
   ],
   "source": [
    "@interact\n",
    "def BookRecommender(book_name = list(df['title'].value_counts().index)):\n",
    "    book_list_name = []\n",
    "    book_id = df[df['title'] == book_name].index #this will return list of all indices where \"entered title\" is present in DF\n",
    "    #print(book_id) # for example, for \"The Iliad\" output is Int64Index([403, 405, 407, 408, 555, 3355, 5903, 8534, 8536], dtype='int64')\n",
    "    \n",
    "    book_id = book_id[0] #pick the first element of this list\n",
    "    \n",
    "    for newid in idlist[book_id]: #idlist is the list of 10 indices or the top 10 recommended books' indices created by KNN model\n",
    "        #print(newid) # for example, for \"the Iliad\", indices of recommended books are - 403, 571,1499,658,1742,3582,7312,139,8746,2645\n",
    "        book_list_name.append(df.loc[newid].title) #we will pass index and in return will display title of recommended book\n",
    "    return book_list_name"
   ]
  },
  {
   "cell_type": "code",
   "execution_count": 89,
   "metadata": {},
   "outputs": [],
   "source": [
    "# <----- End of file ------> "
   ]
  }
 ],
 "metadata": {
  "kernelspec": {
   "display_name": "Python 3",
   "language": "python",
   "name": "python3"
  },
  "language_info": {
   "codemirror_mode": {
    "name": "ipython",
    "version": 3
   },
   "file_extension": ".py",
   "mimetype": "text/x-python",
   "name": "python",
   "nbconvert_exporter": "python",
   "pygments_lexer": "ipython3",
   "version": "3.8.5"
  }
 },
 "nbformat": 4,
 "nbformat_minor": 4
}
